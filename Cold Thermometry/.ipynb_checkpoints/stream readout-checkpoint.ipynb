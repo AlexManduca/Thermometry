{
 "cells": [
  {
   "cell_type": "markdown",
   "id": "a90dd02b",
   "metadata": {},
   "source": [
    "# Cold Thermometry Readout"
   ]
  },
  {
   "cell_type": "markdown",
   "id": "4074c42f",
   "metadata": {},
   "source": [
    "Import statements"
   ]
  },
  {
   "cell_type": "code",
   "execution_count": 40,
   "id": "883fd2b1",
   "metadata": {},
   "outputs": [],
   "source": [
    "import os\n",
    "import sys\n",
    "import csv\n",
    "import numpy as np\n",
    "import pandas as pd\n",
    "from labjack import ljm\n",
    "from datetime import date, datetime\n",
    "import plotly.express as px"
   ]
  },
  {
   "cell_type": "markdown",
   "id": "1d4089a5",
   "metadata": {},
   "source": [
    " "
   ]
  },
  {
   "cell_type": "markdown",
   "id": "95349243",
   "metadata": {},
   "source": [
    "Open up labjack"
   ]
  },
  {
   "cell_type": "code",
   "execution_count": null,
   "id": "2e66deeb",
   "metadata": {},
   "outputs": [],
   "source": [
    "# open first found LabJack and call it handle\n",
    "handle = ljm.openS(\"ANY\", \"ANY\", \"ANY\")  # Any device, Any connection, Any identifier\n",
    "\n",
    "# grab and print out important info \n",
    "info = ljm.getHandleInfo(handle)\n",
    "print(\"Opened a LabJack with Device type: %i, Connection type: %i,\\n\"\n",
    "      \"Serial number: %i, IP address: %s, Port: %i,\\nMax bytes per MB: %i\" %\n",
    "      (info[0], info[1], info[2], ljm.numberToIP(info[3]), info[4], info[5]))"
   ]
  },
  {
   "cell_type": "markdown",
   "id": "64ae71af",
   "metadata": {},
   "source": [
    " "
   ]
  },
  {
   "cell_type": "markdown",
   "id": "4d7281ec",
   "metadata": {},
   "source": [
    "Configure the following parameters:\n",
    "* bias\n",
    "* voltage divider resistance\n",
    "* gain\n",
    "* analog input channels\n",
    "* sample rate with user input"
   ]
  },
  {
   "cell_type": "code",
   "execution_count": 53,
   "id": "f25ba120",
   "metadata": {},
   "outputs": [
    {
     "name": "stdout",
     "output_type": "stream",
     "text": [
      "Enter the peak-to-peak amplitude of your bias (in mV):  \n",
      "50\n",
      "Which channels would you like to read?\n",
      "If you want to read all channels, type 'all'\n",
      "otherwise, list the channels you'd like read out in the following format: 48,56,49,57\n",
      "all\n",
      "['AIN48', 'AIN56', 'AIN49', 'AIN57', 'AIN50', 'AIN58', 'AIN51', 'AIN59', 'AIN52', 'AIN60', 'AIN53', 'AIN61', 'AIN54', 'AIN62', 'AIN55', 'AIN63', 'AIN80', 'AIN88', 'AIN81', 'AIN89', 'AIN82', 'AIN90', 'AIN83', 'AIN91', 'AIN84', 'AIN92', 'AIN85', 'AIN93', 'AIN86', 'AIN94', 'AIN87', 'AIN95', 'AIN96', 'AIN104', 'AIN97', 'AIN105', 'AIN98', 'AIN106', 'AIN99', 'AIN107', 'AIN100', 'AIN108', 'AIN101', 'AIN109', 'AIN102', 'AIN110', 'AIN103', 'AIN111']\n",
      "\n",
      "The T7 max sample rate is 100 ksamples/second. This is achievable for any single-address stream, but for a multi-address stream this is only true when resolution index = 0 or 1 and when range = +/-10V for all analog inputs.\n",
      "\n",
      "Given your inputs, the maximum sample rate, per channel, is 2083.3333333333335 samples / second\n",
      "\n",
      "Enter your desired sample rate, per channel, in Hz\n",
      "e.g. I want to sample each channel x number of times per second\n",
      "(Note: for the sake of avoiding stream overlaps, it is best to sample slower than your maximum sample rate)\n",
      "2000\n",
      "Enter the number of times you would like the labjack to stream data at a rate of 2000.000000 Hz from each channel\n",
      "(type either an integer or the word 'infinite'):\n",
      "infinite\n",
      "\n",
      "Set configuration:\n",
      "    Bias amplitude: 0.05V\n",
      "    Sample rate: 2000.0Hz\n",
      "    Number of times the labjack will stream data from each channel: infinite\n",
      "    AIN_ALL_NEGATIVE_CH : 199.000000\n",
      "    AIN_ALL_RANGE : 10.000000\n",
      "    STREAM_RESOLUTION_INDEX : 0.000000\n",
      "    STREAM_SETTLING_US : 0.000000\n"
     ]
    }
   ],
   "source": [
    "# bias config\n",
    "try:\n",
    "    bias_mV = float(input(\"Enter the peak-to-peak amplitude of your bias (in mV):  \\n\"))\n",
    "    bias = bias_mV/1000 # in Volts\n",
    "except Exception:\n",
    "    print(sys.exc_info()[1])\n",
    "    raise\n",
    "\n",
    "# constant resistor config, should be 1.95Mohms\n",
    "r_constant = 1950000\n",
    "\n",
    "# gain, set by preamp board\n",
    "gain = 160\n",
    "\n",
    "# current, in Amps\n",
    "I = bias / r_constant\n",
    "\n",
    "# resistance to temperature config\n",
    "scriptDir = os.path.dirname(os.path.realpath(\"__file__\"))\n",
    "file = scriptDir + os.path.sep + \"temp_and_res_lists.csv\"\n",
    "temp_list, res_list = np.loadtxt(file, delimiter = \",\", skiprows = 0, usecols = (0, 1), unpack = True)\n",
    "\n",
    "# set range, resolution, and settling time for channels\n",
    "# note:\n",
    "#   Negative channel: single ended = 199, differential = 1\n",
    "#   Range: The instrumentation amplifier in the T7 provides 4 different gains:\n",
    "#         x1 (RANGE is ±10 volts), enter 10.0\n",
    "#         x10 (RANGE is ±1 volts), enter 1.0\n",
    "#         x100 (RANGE is ±0.1 volts), enter 0.1\n",
    "#         x1000 (RANGE is ±0.01 volts), enter 0.01\n",
    "#   Resolution index = Default (0)\n",
    "#   Settling, in microseconds = Auto (0) resource on settling times: https://old3.labjack.com/support/app-notes/SettlingTime\n",
    "setup_names = [\"AIN_ALL_NEGATIVE_CH\", \"AIN_ALL_RANGE\",\"STREAM_RESOLUTION_INDEX\",\"STREAM_SETTLING_US\"]\n",
    "setup_values = [199,10.0,0,0]\n",
    "\n",
    "# AIN channel setup\n",
    "channels_to_read = input(\"Which channels would you like to read?\\nIf you want to read all channels, type 'all'\\notherwise, list the channels you'd like read out in the following format: 48,56,49,57\\n\")\n",
    "\n",
    "try:\n",
    "    if channels_to_read == 'all':\n",
    "\n",
    "        # analog input channels to be read out\n",
    "        positive_channels = np.append(np.append(np.arange(48,56), np.arange(80,88)), np.arange(96,104))\n",
    "        negative_channels = np.append(np.append(np.arange(56,64), np.arange(88,96)), np.arange(104,112))\n",
    "        channel_numbers = [item for sublist in zip(positive_channels, negative_channels) for item in sublist]\n",
    "\n",
    "        channel_names = []\n",
    "        for c in channel_numbers: channel_names = channel_names+[\"AIN%d\"%c]\n",
    "        print(channel_names)\n",
    "    else:\n",
    "        channel_names = []\n",
    "        for i in channels_to_read.split(\",\"):\n",
    "            i = \"AIN\"+i\n",
    "            channel_names.append(i)\n",
    "        print(channel_names)\n",
    "except Exception:\n",
    "    print(sys.exc_info()[1])\n",
    "    raise\n",
    "    \n",
    "# assign the values of range, resolution, and settling to each channel\n",
    "ljm.eWriteNames(handle, len(setup_names), setup_names, setup_values)\n",
    "\n",
    "# list of channels to scan\n",
    "scan_list = ljm.namesToAddresses(len(channel_names), channel_names)[0]\n",
    "\n",
    "# set scan rate, in Hz\n",
    "print(\"\\nThe T7 max sample rate is 100 ksamples/second. This is achievable for any single-address stream, but for a multi-address stream this is only true when resolution index = 0 or 1 and when range = +/-10V for all analog inputs.\")\n",
    "max_sample_rate = 100000 / len(channel_names)\n",
    "\n",
    "print(\"\\nGiven your inputs, the maximum sample rate, per channel, is \" + str(max_sample_rate) + \" samples / second\")\n",
    "\n",
    "sample_rate = float(input(\"\\nEnter your desired sample rate, per channel, in Hz\\ne.g. I want to sample each channel x number of times per second\\n(Note: for the sake of avoiding stream overlaps, it is best to sample slower than your maximum sample rate)\\n\"))\n",
    "\n",
    "# scan_amount determines how many readout loops the labjack will perform \n",
    "try:\n",
    "    scan_amount = input(\"Enter the number of times you would like the labjack to stream data at a rate of %f Hz from each channel, i.e. enter desired number of scans\\n(type either an integer or the word 'infinite'):\\n\" %sample_rate)\n",
    "    if scan_amount != \"infinite\": scan_amount = int(scan_amount)\n",
    "except Exception:\n",
    "    print(sys.exc_info()[1])\n",
    "    raise\n",
    "\n",
    "# print to see if channels were set up properly\n",
    "print(\"\\nSet configuration:\")\n",
    "print(\"    Bias amplitude: %sV\" %bias)\n",
    "print(\"    Sample rate: %sHz\" %sample_rate)\n",
    "print(\"    Number of scans to be performed on each channel: %s\" %scan_amount)\n",
    "for i in range(len(setup_names)):\n",
    "    print(\"    %s : %f\" % (setup_names[i], setup_values[i]))"
   ]
  },
  {
   "cell_type": "markdown",
   "id": "6b8053aa",
   "metadata": {},
   "source": [
    " "
   ]
  },
  {
   "cell_type": "markdown",
   "id": "751a4c90",
   "metadata": {},
   "source": [
    "Collect and save data"
   ]
  },
  {
   "cell_type": "code",
   "execution_count": 54,
   "id": "0de42144",
   "metadata": {},
   "outputs": [
    {
     "name": "stdout",
     "output_type": "stream",
     "text": [
      "Note: Stream data is transferred as 16-bit values\n",
      "\n",
      "Starting infinite read loops. Press Ctrl+C to stop.\n",
      "\n"
     ]
    }
   ],
   "source": [
    "print(\"Note: Stream data is transferred as 16-bit values\")\n",
    "\n",
    "# assign the values of range, resolution, and settling to each channel\n",
    "ljm.eWriteNames(handle, len(setup_names), setup_names, setup_values)\n",
    "\n",
    "dictionary = {}\n",
    "for n in channel_names:\n",
    "    dictionary[n] = {\"V [V]\":[],\"R [komhs]\":[],\"Temp [mK]\":[],\"Time\":[]}\n",
    "\n",
    "try:\n",
    "    # Configure and start stream\n",
    "    sample_rate = ljm.eStreamStart(handle, int(sample_rate), len(channel_names), scan_list, sample_rate)\n",
    "    print(\"\\nStream started with a sample rate of %0.0f Hz.\" % sample_rate)\n",
    "\n",
    "    # just a little message\n",
    "    loop_message = \" Press Ctrl+C to stop.\"\n",
    "    print(\"\\nStarting %s read loops.%s\\n\" % (str(scan_amount), loop_message))\n",
    "    \n",
    "    # start timer\n",
    "    start = datetime.now()\n",
    "    total_scans = 0\n",
    "    total_skipped_samples = 0 # Total skipped samples\n",
    "\n",
    "    i = 1\n",
    "    while i <= scan_amount:\n",
    "        v_measured = ljm.eStreamRead(handle)[0]\n",
    "        time = datetime.now().strftime(\"%Y/%m/%d, %H:%M:%S\")\n",
    "        \n",
    "        for i in range(len(channel_names)):\n",
    "            dictionary[channel_names[i]][\"V [V]\"].append(v_measured[i])\n",
    "            dictionary[channel_names[i]][\"Time\"].append(time[i])\n",
    "\n",
    "        scans = len(v_measured)/len(channel_names)\n",
    "        total_scans += scans\n",
    "        \n",
    "        # Count the skipped samples which are indicated by -9999 values. Missed\n",
    "        # samples occur after a device's stream buffer overflows and are\n",
    "        # reported after auto-recover mode ends.\n",
    "        total_skipped_samples += data.count(-9999.0)\n",
    "        \n",
    "        print(\"\\neStreamRead %i\" % i)\n",
    "        ain_string = \"\"\n",
    "        for j in range(0, numAddresses):\n",
    "            ain_string += \"%s = %0.5f \" % (channel_names[j], v_measured[j])\n",
    "        print(\"  1st scan out of %i: %s\" % (scans, ain_string))\n",
    "        i += 1\n",
    "    \n",
    "    end = datetime.now()\n",
    "\n",
    "    print(\"\\nTotal scans = %i\" % (total_scans))\n",
    "    time_taken = (end-start).seconds + float((end-start).microseconds)/1000000\n",
    "    print(\"Time taken = %f seconds\" % (time_taken))\n",
    "    print(\"Timed scan rate = %f scans/second\" % (total_scans/time_taken))\n",
    "    print(\"Timed sample rate = %f samples/second\" % ((total_scans*len(channel_names))/time_taken))\n",
    "    print(\"Skipped samples = %0.0f\" % (total_skipped_samples/len(channel_names)))\n",
    "except ljm.LJMError:\n",
    "    ljme = sys.exc_info()[1]\n",
    "    print(ljme)\n",
    "except Exception:\n",
    "    e = sys.exc_info()[1]\n",
    "    print(e)\n",
    "\n",
    "print(\"\\nStop Stream\")\n",
    "ljm.eStreamStop(handle)\n",
    "\n",
    "# Close handle\n",
    "ljm.close(handle)"
   ]
  },
  {
   "cell_type": "markdown",
   "id": "2bbbf911",
   "metadata": {},
   "source": [
    " "
   ]
  },
  {
   "cell_type": "markdown",
   "id": "f75b820c",
   "metadata": {},
   "source": [
    "Save raw and averaged data to files"
   ]
  },
  {
   "cell_type": "code",
   "execution_count": null,
   "id": "665c994c",
   "metadata": {},
   "outputs": [],
   "source": [
    "for n in channel_names:\n",
    "    j = 0\n",
    "    r_var = []\n",
    "    for i in range(int(scan_rate)):\n",
    "        r_var.append(((dictionary[n]['V [V]'][i] / 0.3535) / gain) / I)\n",
    "        dictionary[n][\"R [komhs]\"][i].append(r_var[i])\n",
    "        temp = 1000*np.interp(dictionary[n][\"R [komhs]\"][i],res_list,temp_list)\n",
    "        dictionary[n][\"Temp [mK]\"][i].append(temp)\n",
    "        j+=1\n",
    "        if j == int(scan_rate): j = 0\n",
    "\n",
    "# csv data files\n",
    "if os.path.exists('data/%s_data' %(datetime.now().strftime(\"%Y-%m-%d\"))) == False:\n",
    "    os.mkdir('data/%s_data' %(datetime.now().strftime(\"%Y-%m-%d\")))\n",
    "\n",
    "files = []\n",
    "for i in range(len(channel_names)):\n",
    "    files.append('data/%s_data' %(datetime.now().strftime(\"%Y-%m-%d\")) + \"/thermometer_%s\" %channel_names[i])\n",
    "\n",
    "for n in files:\n",
    "    df = pd.DataFrame(dictionary[n[33:]])\n",
    "    df.to_csv(n, index = False)\n",
    "    \n",
    "# averaged data\n",
    "averaged_dictionary = {}\n",
    "for n in channel_names:\n",
    "    averaged_dictionary[n] = {\"V [V]\":[],\"R [komhs]\":[],\"Temp [mK]\":[],\"Time\":[]}\n",
    "\n",
    "for n in channel_names:\n",
    "    i = 0\n",
    "    while i < len(dictionary[n]['V [V]']):\n",
    "        averaged_dictionary[n]['V [V]'].append(sum(dictionary[n]['V [V]'][i:sample_rate])/sample_rate)\n",
    "        averaged_dictionary[n]['R [komhs]'].append(sum(dictionary[n]['R [komhs]'][i:sample_rate])/sample_rate)\n",
    "        averaged_dictionary[n]['Temp [mK]'].append(sum(dictionary[n]['Temp [mK]'][i:sample_rate])/sample_rate)\n",
    "        averaged_dictionary[n]['Time'].append(dictionary[n]['Time'][0])\n",
    "        i += sample_rate\n",
    "        \n",
    "# averaged csv data files\n",
    "if os.path.exists('averaged_data/averaged_%s_data' %(datetime.now().strftime(\"%Y-%m-%d\"))) == False:\n",
    "    os.mkdir('averaged_data/averaged_%s_data' %(datetime.now().strftime(\"%Y-%m-%d\")))\n",
    "\n",
    "files = []\n",
    "for i in range(len(channel_names)):\n",
    "    files.append('averaged_data/averaged_%s_data' %(datetime.now().strftime(\"%Y-%m-%d\")) + \"/thermometer_%s\" %channel_names[i])\n",
    "\n",
    "for n in files:\n",
    "    df = pd.DataFrame(averaged_dictionary[n[33:]])\n",
    "    df.to_csv(n, index = False)"
   ]
  },
  {
   "cell_type": "markdown",
   "id": "7c40ebee",
   "metadata": {},
   "source": [
    " "
   ]
  },
  {
   "cell_type": "markdown",
   "id": "cfe1e156",
   "metadata": {},
   "source": [
    "Read data from file and plot"
   ]
  },
  {
   "cell_type": "code",
   "execution_count": null,
   "id": "ddb03677",
   "metadata": {},
   "outputs": [],
   "source": [
    "df = pd.read_csv(files[0])\n",
    "df.head()"
   ]
  },
  {
   "cell_type": "code",
   "execution_count": null,
   "id": "513a160c",
   "metadata": {},
   "outputs": [],
   "source": [
    "figK = px.line(df, x = 'Time', y = 'Temp [K]', title='Temperature [K] over time')\n",
    "figK.show()"
   ]
  }
 ],
 "metadata": {
  "kernelspec": {
   "display_name": "Python 3 (ipykernel)",
   "language": "python",
   "name": "python3"
  },
  "language_info": {
   "codemirror_mode": {
    "name": "ipython",
    "version": 3
   },
   "file_extension": ".py",
   "mimetype": "text/x-python",
   "name": "python",
   "nbconvert_exporter": "python",
   "pygments_lexer": "ipython3",
   "version": "3.11.1"
  }
 },
 "nbformat": 4,
 "nbformat_minor": 5
}
