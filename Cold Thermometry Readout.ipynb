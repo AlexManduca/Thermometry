{
 "cells": [
  {
   "cell_type": "markdown",
   "id": "a90dd02b",
   "metadata": {},
   "source": [
    "# Cold Thermometry Readout"
   ]
  },
  {
   "cell_type": "markdown",
   "id": "4074c42f",
   "metadata": {},
   "source": [
    "Import statements"
   ]
  },
  {
   "cell_type": "code",
   "execution_count": 8,
   "id": "883fd2b1",
   "metadata": {},
   "outputs": [],
   "source": [
    "import os\n",
    "import sys\n",
    "import csv\n",
    "import numpy as np\n",
    "import pandas as pd\n",
    "from labjack import ljm\n",
    "from datetime import date, datetime\n",
    "import plotly.express as px"
   ]
  },
  {
   "cell_type": "markdown",
   "id": "1d4089a5",
   "metadata": {},
   "source": [
    " "
   ]
  },
  {
   "cell_type": "markdown",
   "id": "95349243",
   "metadata": {},
   "source": [
    "Open up labjack"
   ]
  },
  {
   "cell_type": "code",
   "execution_count": 48,
   "id": "2e66deeb",
   "metadata": {},
   "outputs": [
    {
     "name": "stdout",
     "output_type": "stream",
     "text": [
      "Opened a LabJack with Device type: 7, Connection type: 1,\n",
      "Serial number: 470017581, IP address: 0.0.0.0, Port: 0,\n",
      "Max bytes per MB: 64\n"
     ]
    }
   ],
   "source": [
    "# open first found LabJack and call it handle\n",
    "handle = ljm.openS(\"ANY\", \"ANY\", \"ANY\")  # Any device, Any connection, Any identifier\n",
    "\n",
    "# grab and print out important info \n",
    "info = ljm.getHandleInfo(handle)\n",
    "print(\"Opened a LabJack with Device type: %i, Connection type: %i,\\n\"\n",
    "      \"Serial number: %i, IP address: %s, Port: %i,\\nMax bytes per MB: %i\" %\n",
    "      (info[0], info[1], info[2], ljm.numberToIP(info[3]), info[4], info[5]))"
   ]
  },
  {
   "cell_type": "markdown",
   "id": "64ae71af",
   "metadata": {},
   "source": [
    " "
   ]
  },
  {
   "cell_type": "markdown",
   "id": "4d7281ec",
   "metadata": {},
   "source": [
    "Configure the following parameters:\n",
    "* bias\n",
    "* voltage divider resistance\n",
    "* gain\n",
    "* analog input channels\n",
    "* sample rate with user input"
   ]
  },
  {
   "cell_type": "code",
   "execution_count": 67,
   "id": "f25ba120",
   "metadata": {},
   "outputs": [
    {
     "name": "stdout",
     "output_type": "stream",
     "text": [
      "Enter the peak-to-peak amplitude of your bias (in V):  \n",
      ".1\n"
     ]
    },
    {
     "ename": "KeyboardInterrupt",
     "evalue": "Interrupted by user",
     "output_type": "error",
     "traceback": [
      "\u001b[0;31m---------------------------------------------------------------------------\u001b[0m",
      "\u001b[0;31mKeyboardInterrupt\u001b[0m                         Traceback (most recent call last)",
      "Cell \u001b[0;32mIn [67], line 36\u001b[0m\n\u001b[1;32m     33\u001b[0m setup_values \u001b[38;5;241m=\u001b[39m [\u001b[38;5;241m199\u001b[39m,\u001b[38;5;241m10.0\u001b[39m,\u001b[38;5;241m0\u001b[39m,\u001b[38;5;241m0\u001b[39m]\n\u001b[1;32m     35\u001b[0m \u001b[38;5;66;03m# AIN channel setup\u001b[39;00m\n\u001b[0;32m---> 36\u001b[0m channels_to_read \u001b[38;5;241m=\u001b[39m \u001b[38;5;28;43minput\u001b[39;49m\u001b[43m(\u001b[49m\u001b[38;5;124;43m\"\u001b[39;49m\u001b[38;5;124;43mWhich channels would you like to read?\u001b[39;49m\u001b[38;5;130;43;01m\\n\u001b[39;49;00m\u001b[38;5;124;43mIf you want to read all channels, type \u001b[39;49m\u001b[38;5;124;43m'\u001b[39;49m\u001b[38;5;124;43mall\u001b[39;49m\u001b[38;5;124;43m'\u001b[39;49m\u001b[38;5;130;43;01m\\n\u001b[39;49;00m\u001b[38;5;124;43motherwise, list the channels you\u001b[39;49m\u001b[38;5;124;43m'\u001b[39;49m\u001b[38;5;124;43md like read out in the following format: 48,56,49,57\u001b[39;49m\u001b[38;5;130;43;01m\\n\u001b[39;49;00m\u001b[38;5;124;43m\"\u001b[39;49m\u001b[43m)\u001b[49m\n\u001b[1;32m     38\u001b[0m \u001b[38;5;28;01mtry\u001b[39;00m:\n\u001b[1;32m     39\u001b[0m     \u001b[38;5;28;01mif\u001b[39;00m channels_to_read \u001b[38;5;241m==\u001b[39m \u001b[38;5;124m'\u001b[39m\u001b[38;5;124mall\u001b[39m\u001b[38;5;124m'\u001b[39m:\n\u001b[1;32m     40\u001b[0m \n\u001b[1;32m     41\u001b[0m         \u001b[38;5;66;03m# analog input channels to be read out\u001b[39;00m\n",
      "File \u001b[0;32m/usr/lib/python3.11/site-packages/ipykernel/kernelbase.py:1177\u001b[0m, in \u001b[0;36mKernel.raw_input\u001b[0;34m(self, prompt)\u001b[0m\n\u001b[1;32m   1173\u001b[0m \u001b[38;5;28;01mif\u001b[39;00m \u001b[38;5;129;01mnot\u001b[39;00m \u001b[38;5;28mself\u001b[39m\u001b[38;5;241m.\u001b[39m_allow_stdin:\n\u001b[1;32m   1174\u001b[0m     \u001b[38;5;28;01mraise\u001b[39;00m StdinNotImplementedError(\n\u001b[1;32m   1175\u001b[0m         \u001b[38;5;124m\"\u001b[39m\u001b[38;5;124mraw_input was called, but this frontend does not support input requests.\u001b[39m\u001b[38;5;124m\"\u001b[39m\n\u001b[1;32m   1176\u001b[0m     )\n\u001b[0;32m-> 1177\u001b[0m \u001b[38;5;28;01mreturn\u001b[39;00m \u001b[38;5;28;43mself\u001b[39;49m\u001b[38;5;241;43m.\u001b[39;49m\u001b[43m_input_request\u001b[49m\u001b[43m(\u001b[49m\n\u001b[1;32m   1178\u001b[0m \u001b[43m    \u001b[49m\u001b[38;5;28;43mstr\u001b[39;49m\u001b[43m(\u001b[49m\u001b[43mprompt\u001b[49m\u001b[43m)\u001b[49m\u001b[43m,\u001b[49m\n\u001b[1;32m   1179\u001b[0m \u001b[43m    \u001b[49m\u001b[38;5;28;43mself\u001b[39;49m\u001b[38;5;241;43m.\u001b[39;49m\u001b[43m_parent_ident\u001b[49m\u001b[43m[\u001b[49m\u001b[38;5;124;43m\"\u001b[39;49m\u001b[38;5;124;43mshell\u001b[39;49m\u001b[38;5;124;43m\"\u001b[39;49m\u001b[43m]\u001b[49m\u001b[43m,\u001b[49m\n\u001b[1;32m   1180\u001b[0m \u001b[43m    \u001b[49m\u001b[38;5;28;43mself\u001b[39;49m\u001b[38;5;241;43m.\u001b[39;49m\u001b[43mget_parent\u001b[49m\u001b[43m(\u001b[49m\u001b[38;5;124;43m\"\u001b[39;49m\u001b[38;5;124;43mshell\u001b[39;49m\u001b[38;5;124;43m\"\u001b[39;49m\u001b[43m)\u001b[49m\u001b[43m,\u001b[49m\n\u001b[1;32m   1181\u001b[0m \u001b[43m    \u001b[49m\u001b[43mpassword\u001b[49m\u001b[38;5;241;43m=\u001b[39;49m\u001b[38;5;28;43;01mFalse\u001b[39;49;00m\u001b[43m,\u001b[49m\n\u001b[1;32m   1182\u001b[0m \u001b[43m\u001b[49m\u001b[43m)\u001b[49m\n",
      "File \u001b[0;32m/usr/lib/python3.11/site-packages/ipykernel/kernelbase.py:1219\u001b[0m, in \u001b[0;36mKernel._input_request\u001b[0;34m(self, prompt, ident, parent, password)\u001b[0m\n\u001b[1;32m   1216\u001b[0m             \u001b[38;5;28;01mbreak\u001b[39;00m\n\u001b[1;32m   1217\u001b[0m \u001b[38;5;28;01mexcept\u001b[39;00m \u001b[38;5;167;01mKeyboardInterrupt\u001b[39;00m:\n\u001b[1;32m   1218\u001b[0m     \u001b[38;5;66;03m# re-raise KeyboardInterrupt, to truncate traceback\u001b[39;00m\n\u001b[0;32m-> 1219\u001b[0m     \u001b[38;5;28;01mraise\u001b[39;00m \u001b[38;5;167;01mKeyboardInterrupt\u001b[39;00m(\u001b[38;5;124m\"\u001b[39m\u001b[38;5;124mInterrupted by user\u001b[39m\u001b[38;5;124m\"\u001b[39m) \u001b[38;5;28;01mfrom\u001b[39;00m \u001b[38;5;28mNone\u001b[39m\n\u001b[1;32m   1220\u001b[0m \u001b[38;5;28;01mexcept\u001b[39;00m \u001b[38;5;167;01mException\u001b[39;00m:\n\u001b[1;32m   1221\u001b[0m     \u001b[38;5;28mself\u001b[39m\u001b[38;5;241m.\u001b[39mlog\u001b[38;5;241m.\u001b[39mwarning(\u001b[38;5;124m\"\u001b[39m\u001b[38;5;124mInvalid Message:\u001b[39m\u001b[38;5;124m\"\u001b[39m, exc_info\u001b[38;5;241m=\u001b[39m\u001b[38;5;28;01mTrue\u001b[39;00m)\n",
      "\u001b[0;31mKeyboardInterrupt\u001b[0m: Interrupted by user"
     ]
    }
   ],
   "source": [
    "# bias config\n",
    "try:\n",
    "    bias = float(input(\"Enter the peak-to-peak amplitude of your bias (in V):  \\n\"))\n",
    "except Exception:\n",
    "    print(sys.exc_info()[1])\n",
    "    raise\n",
    "\n",
    "# constant resistor config, should be 10Mohms\n",
    "r_constant = 1e8\n",
    "\n",
    "# gain, set by preamp board\n",
    "gain = 160\n",
    "\n",
    "# current, in Amps\n",
    "I = bias / r_constant\n",
    "\n",
    "# resistance to temperature config\n",
    "scriptDir = os.path.dirname(os.path.realpath(\"__file__\"))\n",
    "file = scriptDir + os.path.sep + \"temp_and_res_lists.csv\"\n",
    "temp_list, res_list = np.loadtxt(file, delimiter = \",\", skiprows = 0, usecols = (0, 1), unpack = True)\n",
    "\n",
    "# set range, resolution, and settling time for channels\n",
    "# note:\n",
    "#   Negative channel: single ended = 199, differential = 1\n",
    "#   Range: The instrumentation amplifier in the T7 provides 4 different gains:\n",
    "#         x1 (RANGE is ±10 volts), enter 10.0\n",
    "#         x10 (RANGE is ±1 volts), enter 1.0\n",
    "#         x100 (RANGE is ±0.1 volts), enter 0.1\n",
    "#         x1000 (RANGE is ±0.01 volts), enter 0.01\n",
    "#   Resolution index = Default (0)\n",
    "#   Settling, in microseconds = Auto (0) resource on settling times: https://old3.labjack.com/support/app-notes/SettlingTime\n",
    "setup_names = [\"AIN_ALL_NEGATIVE_CH\", \"AIN_ALL_RANGE\",\"STREAM_RESOLUTION_INDEX\",\"STREAM_SETTLING_US\"]\n",
    "setup_values = [199,10.0,0,0]\n",
    "\n",
    "# AIN channel setup\n",
    "channels_to_read = input(\"Which channels would you like to read?\\nIf you want to read all channels, type 'all'\\notherwise, list the channels you'd like read out in the following format: 48,56,49,57\\n\")\n",
    "\n",
    "try:\n",
    "    if channels_to_read == 'all':\n",
    "\n",
    "        # analog input channels to be read out\n",
    "        positive_channels = np.append(np.append(np.arange(48,56), np.arange(80,88)), np.arange(96,104))\n",
    "        negative_channels = np.append(np.append(np.arange(56,64), np.arange(88,96)), np.arange(104,112))\n",
    "        channel_numbers = [item for sublist in zip(positive_channels, negative_channels) for item in sublist]\n",
    "\n",
    "        channel_names = []\n",
    "        for c in channel_numbers: channel_names = channel_names+[\"AIN%d\"%c]\n",
    "        print(channel_names)\n",
    "    else:\n",
    "        channel_names = []\n",
    "        for i in channels_to_read.split(\",\"):\n",
    "            i = \"AIN\"+i\n",
    "            channel_names.append(i)\n",
    "        print(channel_names)\n",
    "except Exception:\n",
    "    print(sys.exc_info()[1])\n",
    "    raise\n",
    "    \n",
    "# assign the values of range, resolution, and settling to each channel\n",
    "ljm.eWriteNames(handle, len(setup_names), setup_names, setup_values)\n",
    "\n",
    "# list of channels to scan\n",
    "scan_list = ljm.namesToAddresses(len(channel_names), channel_names)[0]\n",
    "\n",
    "# set scan rate, in Hz\n",
    "print(\"\\nThe T7 max sample rate is 100 ksamples/second. This is achievable for any single-address stream, but for a multi-address stream this is only true when resolution index = 0 or 1 and when range = +/-10V for all analog inputs.\")\n",
    "max_sample_rate = 100000 / len(channel_names)\n",
    "\n",
    "print(\"\\nGiven your inputs, the maximum sample rate, per channel, is \" + str(max_sample_rate) + \" samples / second\")\n",
    "\n",
    "sample_rate = float(input(\"\\nEnter your desired sample rate, per channel, in Hz\\ne.g. I want to sample each channel x number of times per second\\n(Note: for the sake of avoiding stream overlaps, it is best to sample slower than your maximum sample rate)\\n\"))\n",
    "\n",
    "# scan_amount determines how many readout loops the labjack will perform \n",
    "try:\n",
    "    scan_amount = input(\"Enter the number of times you would like the labjack to stream data at a rate of %f Hz from each channel, i.e. enter desired number of scans\\n(type either an integer or the word 'infinite'):\\n\" %sample_rate)\n",
    "    if scan_amount != \"infinite\": scan_amount = int(scan_amount)\n",
    "except Exception:\n",
    "    print(sys.exc_info()[1])\n",
    "    raise\n",
    "\n",
    "# print to see if channels were set up properly\n",
    "print(\"\\nSet configuration:\")\n",
    "print(\"    Bias amplitude: %sV\" %bias)\n",
    "print(\"    Sample rate: %sHz\" %sample_rate)\n",
    "print(\"    Number of scans to be performed on each channel: %s\" %scan_amount)\n",
    "for i in range(len(setup_names)):\n",
    "    print(\"    %s : %f\" % (setup_names[i], setup_values[i]))"
   ]
  },
  {
   "cell_type": "markdown",
   "id": "6b8053aa",
   "metadata": {},
   "source": [
    " "
   ]
  },
  {
   "cell_type": "markdown",
   "id": "751a4c90",
   "metadata": {},
   "source": [
    "Collect and save data"
   ]
  },
  {
   "cell_type": "code",
   "execution_count": 50,
   "id": "0de42144",
   "metadata": {},
   "outputs": [
    {
     "name": "stdout",
     "output_type": "stream",
     "text": [
      "Note: Stream data is transferred as 16-bit values\n",
      "\n",
      "Stream started with a sample rate of 1600 Hz.\n",
      "\n",
      "Starting 100 read loops. Press Ctrl+C to stop.\n",
      "\n",
      "\n",
      "eStreamRead 1\n",
      "\n",
      "eStreamRead 2\n",
      "\n",
      "eStreamRead 3\n",
      "\n",
      "eStreamRead 4\n",
      "\n",
      "eStreamRead 5\n",
      "\n",
      "eStreamRead 6\n",
      "\n",
      "eStreamRead 7\n",
      "\n",
      "eStreamRead 8\n",
      "\n",
      "eStreamRead 9\n",
      "\n",
      "eStreamRead 10\n",
      "\n",
      "eStreamRead 11\n",
      "\n",
      "eStreamRead 12\n",
      "\n",
      "eStreamRead 13\n",
      "\n",
      "eStreamRead 14\n",
      "\n",
      "eStreamRead 15\n",
      "\n",
      "eStreamRead 16\n",
      "\n",
      "eStreamRead 17\n",
      "\n",
      "eStreamRead 18\n",
      "\n",
      "eStreamRead 19\n",
      "\n",
      "eStreamRead 20\n",
      "\n",
      "eStreamRead 21\n",
      "\n",
      "eStreamRead 22\n",
      "\n",
      "eStreamRead 23\n",
      "\n",
      "eStreamRead 24\n",
      "\n",
      "eStreamRead 25\n",
      "\n",
      "eStreamRead 26\n",
      "\n",
      "eStreamRead 27\n",
      "\n",
      "eStreamRead 28\n",
      "\n",
      "eStreamRead 29\n",
      "\n",
      "eStreamRead 30\n",
      "\n",
      "eStreamRead 31\n",
      "\n",
      "eStreamRead 32\n",
      "\n",
      "eStreamRead 33\n",
      "\n",
      "eStreamRead 34\n",
      "\n",
      "eStreamRead 35\n",
      "\n",
      "eStreamRead 36\n",
      "\n",
      "eStreamRead 37\n",
      "\n",
      "eStreamRead 38\n",
      "\n",
      "eStreamRead 39\n",
      "\n",
      "eStreamRead 40\n",
      "\n",
      "eStreamRead 41\n",
      "\n",
      "eStreamRead 42\n",
      "\n",
      "eStreamRead 43\n",
      "\n",
      "eStreamRead 44\n",
      "\n",
      "eStreamRead 45\n",
      "\n",
      "eStreamRead 46\n",
      "\n",
      "eStreamRead 47\n",
      "\n",
      "eStreamRead 48\n",
      "\n",
      "eStreamRead 49\n",
      "\n",
      "eStreamRead 50\n",
      "\n",
      "eStreamRead 51\n",
      "\n",
      "eStreamRead 52\n",
      "\n",
      "eStreamRead 53\n",
      "\n",
      "eStreamRead 54\n",
      "\n",
      "eStreamRead 55\n",
      "\n",
      "eStreamRead 56\n",
      "\n",
      "eStreamRead 57\n",
      "\n",
      "eStreamRead 58\n",
      "\n",
      "eStreamRead 59\n",
      "\n",
      "eStreamRead 60\n",
      "\n",
      "eStreamRead 61\n",
      "\n",
      "eStreamRead 62\n",
      "\n",
      "eStreamRead 63\n",
      "\n",
      "eStreamRead 64\n",
      "\n",
      "eStreamRead 65\n",
      "\n",
      "eStreamRead 66\n",
      "\n",
      "eStreamRead 67\n",
      "\n",
      "eStreamRead 68\n",
      "\n",
      "eStreamRead 69\n",
      "\n",
      "eStreamRead 70\n",
      "\n",
      "eStreamRead 71\n",
      "\n",
      "eStreamRead 72\n",
      "\n",
      "eStreamRead 73\n",
      "\n",
      "eStreamRead 74\n",
      "\n",
      "eStreamRead 75\n",
      "\n",
      "eStreamRead 76\n",
      "\n",
      "eStreamRead 77\n",
      "\n",
      "eStreamRead 78\n",
      "\n",
      "eStreamRead 79\n",
      "\n",
      "eStreamRead 80\n",
      "\n",
      "eStreamRead 81\n",
      "\n",
      "eStreamRead 82\n",
      "\n",
      "eStreamRead 83\n",
      "\n",
      "eStreamRead 84\n",
      "\n",
      "eStreamRead 85\n",
      "\n",
      "eStreamRead 86\n",
      "\n",
      "eStreamRead 87\n",
      "\n",
      "eStreamRead 88\n",
      "\n",
      "eStreamRead 89\n",
      "\n",
      "eStreamRead 90\n",
      "\n",
      "eStreamRead 91\n",
      "\n",
      "eStreamRead 92\n",
      "\n",
      "eStreamRead 93\n",
      "\n",
      "eStreamRead 94\n",
      "\n",
      "eStreamRead 95\n",
      "\n",
      "eStreamRead 96\n",
      "\n",
      "eStreamRead 97\n",
      "\n",
      "eStreamRead 98\n",
      "\n",
      "eStreamRead 99\n",
      "\n",
      "eStreamRead 100\n",
      "\n",
      "Total scans = 160000\n",
      "Time taken = 100.010971 seconds\n",
      "Timed scan rate = 1599.824483 scans/second\n",
      "Timed sample rate = 1599.824483 samples/second\n",
      "\n",
      "Stop Stream\n"
     ]
    }
   ],
   "source": [
    "print(\"Note: Stream data is transferred as 16-bit values\")\n",
    "\n",
    "# assign the values of range, resolution, and settling to each channel\n",
    "ljm.eWriteNames(handle, len(setup_names), setup_names, setup_values)\n",
    "\n",
    "dictionary = {}\n",
    "for n in channel_names:\n",
    "    dictionary[n] = {\"V [V]\":[],\"R [komhs]\":[],\"Temp [mK]\":[],\"Time\":[]}\n",
    "\n",
    "try:\n",
    "    # Configure and start stream\n",
    "    sample_rate = ljm.eStreamStart(handle, int(sample_rate), len(channel_names), scan_list, sample_rate)\n",
    "    print(\"\\nStream started with a sample rate of %0.0f Hz.\" % sample_rate)\n",
    "\n",
    "    # just a little message\n",
    "    loop_message = \" Press Ctrl+C to stop.\"\n",
    "    print(\"\\nStarting %s read loops.%s\\n\" % (str(scan_amount), loop_message))\n",
    "    \n",
    "    # start timer\n",
    "    start = datetime.now()\n",
    "    total_scans = 0\n",
    "#     total_skipped_samples = 0 # Total skipped samples\n",
    "\n",
    "    i = 1\n",
    "    while i <= scan_amount:\n",
    "        v_measured = ljm.eStreamRead(handle)[0]\n",
    "        time = datetime.now().strftime(\"%Y/%m/%d, %H:%M:%S\")\n",
    "                \n",
    "        for k in range(len(channel_names)):\n",
    "            dictionary[channel_names[k]][\"V [V]\"].append(v_measured[k::len(channel_names)])\n",
    "            dictionary[channel_names[k]][\"Time\"].append(time)\n",
    "\n",
    "        scans = len(v_measured)/len(channel_names)\n",
    "        total_scans += scans\n",
    "        \n",
    "        print(\"\\neStreamRead %i\" % i)\n",
    "\n",
    "        i += 1\n",
    "    \n",
    "    end = datetime.now()\n",
    "\n",
    "    print(\"\\nTotal scans = %i\" % (total_scans))\n",
    "    time_taken = (end-start).seconds + float((end-start).microseconds)/1000000\n",
    "    print(\"Time taken = %f seconds\" % (time_taken))\n",
    "    print(\"Timed scan rate = %f scans/second\" % (total_scans/time_taken))\n",
    "    print(\"Timed sample rate = %f samples/second\" % ((total_scans*len(channel_names))/time_taken))\n",
    "#     print(\"Skipped samples = %0.0f\" % (total_skipped_samples/len(channel_names)))\n",
    "except ljm.LJMError:\n",
    "    ljme = sys.exc_info()[1]\n",
    "    print(ljme)\n",
    "except Exception:\n",
    "    e = sys.exc_info()[1]\n",
    "    print(e)\n",
    "\n",
    "print(\"\\nStop Stream\")\n",
    "ljm.eStreamStop(handle)\n",
    "\n",
    "# Close handle\n",
    "ljm.close(handle)"
   ]
  },
  {
   "cell_type": "markdown",
   "id": "2bbbf911",
   "metadata": {},
   "source": [
    " "
   ]
  },
  {
   "cell_type": "markdown",
   "id": "f75b820c",
   "metadata": {},
   "source": [
    "Save raw and averaged data to files"
   ]
  },
  {
   "cell_type": "code",
   "execution_count": 51,
   "id": "a67929bb",
   "metadata": {},
   "outputs": [],
   "source": [
    "calibration = 2*(.00249/1000)"
   ]
  },
  {
   "cell_type": "code",
   "execution_count": 52,
   "id": "665c994c",
   "metadata": {},
   "outputs": [],
   "source": [
    "for n in channel_names:\n",
    "    dictionary[n][\"R [komhs]\"] = ((np.array(dictionary[n]['V [V]']) / calibration))\n",
    "    dictionary[n][\"Temp [mK]\"] = 1000*np.interp(dictionary[n][\"R [komhs]\"],res_list,temp_list)\n",
    "\n",
    "# csv data files\n",
    "if os.path.exists('data/%s_data' %(datetime.now().strftime(\"%Y-%m-%d\"))) == False:\n",
    "    os.mkdir('data/%s_data' %(datetime.now().strftime(\"%Y-%m-%d\")))\n",
    "\n",
    "files = []\n",
    "for i in range(len(channel_names)):\n",
    "    files.append('data/%s_data' %(datetime.now().strftime(\"%Y-%m-%d\")) + \"/thermometer_%s\" %channel_names[i])\n",
    "\n",
    "for n in files:\n",
    "    df = pd.DataFrame(dictionary)#[n[33:]]\n",
    "    df.to_csv(n, index = False)"
   ]
  },
  {
   "cell_type": "code",
   "execution_count": 53,
   "id": "3f1753af",
   "metadata": {},
   "outputs": [
    {
     "data": {
      "text/html": [
       "<div>\n",
       "<style scoped>\n",
       "    .dataframe tbody tr th:only-of-type {\n",
       "        vertical-align: middle;\n",
       "    }\n",
       "\n",
       "    .dataframe tbody tr th {\n",
       "        vertical-align: top;\n",
       "    }\n",
       "\n",
       "    .dataframe thead th {\n",
       "        text-align: right;\n",
       "    }\n",
       "</style>\n",
       "<table border=\"1\" class=\"dataframe\">\n",
       "  <thead>\n",
       "    <tr style=\"text-align: right;\">\n",
       "      <th></th>\n",
       "      <th>AIN56</th>\n",
       "    </tr>\n",
       "  </thead>\n",
       "  <tbody>\n",
       "    <tr>\n",
       "      <th>R [komhs]</th>\n",
       "      <td>[[20714.485681200604, 20460.84727149412, 20460...</td>\n",
       "    </tr>\n",
       "    <tr>\n",
       "      <th>Temp [mK]</th>\n",
       "      <td>[[95.37263811381672, 96.26585691120539, 96.265...</td>\n",
       "    </tr>\n",
       "    <tr>\n",
       "      <th>Time</th>\n",
       "      <td>[2023/06/01, 16:52:53, 2023/06/01, 16:52:54, 2...</td>\n",
       "    </tr>\n",
       "    <tr>\n",
       "      <th>V [V]</th>\n",
       "      <td>[[0.103158138692379, 0.10189501941204071, 0.10...</td>\n",
       "    </tr>\n",
       "  </tbody>\n",
       "</table>\n",
       "</div>"
      ],
      "text/plain": [
       "                                                       AIN56\n",
       "R [komhs]  [[20714.485681200604, 20460.84727149412, 20460...\n",
       "Temp [mK]  [[95.37263811381672, 96.26585691120539, 96.265...\n",
       "Time       [2023/06/01, 16:52:53, 2023/06/01, 16:52:54, 2...\n",
       "V [V]      [[0.103158138692379, 0.10189501941204071, 0.10..."
      ]
     },
     "execution_count": 53,
     "metadata": {},
     "output_type": "execute_result"
    }
   ],
   "source": [
    "df"
   ]
  },
  {
   "cell_type": "code",
   "execution_count": 54,
   "id": "cf98de9c",
   "metadata": {},
   "outputs": [],
   "source": [
    "# averaged data\n",
    "averaged_dictionary = {}\n",
    "for n in channel_names:\n",
    "    averaged_dictionary[n] = {\"V [V]\":[],\"R [komhs]\":[],\"Temp [mK]\":[],\"Time\":[]}\n",
    "\n",
    "for n in channel_names:\n",
    "    i = 0\n",
    "    while i < scan_amount:\n",
    "        averaged_dictionary[n]['V [V]'].append(np.average(df[n]['V [V]'][i]))\n",
    "        averaged_dictionary[n]['R [komhs]'].append(np.average(df[n]['R [komhs]'][i]))\n",
    "        averaged_dictionary[n]['Temp [mK]'].append(np.average(df[n]['Temp [mK]'][i]))\n",
    "        averaged_dictionary[n]['Time'].append(df[n]['Time'][i])\n",
    "        i += 1\n",
    "        \n",
    "# averaged csv data files\n",
    "if os.path.exists('averaged_data/averaged_%s_data' %(datetime.now().strftime(\"%Y-%m-%d\"))) == False:\n",
    "    os.mkdir('averaged_data/averaged_%s_data' %(datetime.now().strftime(\"%Y-%m-%d\")))\n",
    "\n",
    "files = []\n",
    "for i in range(len(channel_names)):\n",
    "    files.append('averaged_data/averaged_%s_data' %(datetime.now().strftime(\"%Y-%m-%d\")) + \"/thermometer_%s\" %channel_names[i])\n",
    "\n",
    "for n in files:\n",
    "    df = pd.DataFrame(averaged_dictionary)\n",
    "    df.to_csv(n, index = False)"
   ]
  },
  {
   "cell_type": "markdown",
   "id": "ee3a9577",
   "metadata": {},
   "source": [
    " "
   ]
  },
  {
   "cell_type": "markdown",
   "id": "cfe1e156",
   "metadata": {},
   "source": [
    "Read data from file and plot"
   ]
  },
  {
   "cell_type": "code",
   "execution_count": 55,
   "id": "513a160c",
   "metadata": {},
   "outputs": [
    {
     "data": {
      "application/vnd.plotly.v1+json": {
       "config": {
        "plotlyServerURL": "https://plot.ly"
       },
       "data": [
        {
         "hovertemplate": "x=%{x}<br>y=%{y}<extra></extra>",
         "legendgroup": "",
         "line": {
          "color": "#636efa",
          "dash": "solid"
         },
         "marker": {
          "symbol": "circle"
         },
         "mode": "lines",
         "name": "",
         "orientation": "v",
         "showlegend": false,
         "type": "scatter",
         "x": [
          "2023/06/01, 16:52:53",
          "2023/06/01, 16:52:54",
          "2023/06/01, 16:52:55",
          "2023/06/01, 16:52:56",
          "2023/06/01, 16:52:57",
          "2023/06/01, 16:52:58",
          "2023/06/01, 16:52:59",
          "2023/06/01, 16:53:00",
          "2023/06/01, 16:53:01",
          "2023/06/01, 16:53:02",
          "2023/06/01, 16:53:03",
          "2023/06/01, 16:53:04",
          "2023/06/01, 16:53:05",
          "2023/06/01, 16:53:06",
          "2023/06/01, 16:53:07",
          "2023/06/01, 16:53:08",
          "2023/06/01, 16:53:09",
          "2023/06/01, 16:53:10",
          "2023/06/01, 16:53:11",
          "2023/06/01, 16:53:12",
          "2023/06/01, 16:53:13",
          "2023/06/01, 16:53:14",
          "2023/06/01, 16:53:15",
          "2023/06/01, 16:53:16",
          "2023/06/01, 16:53:17",
          "2023/06/01, 16:53:18",
          "2023/06/01, 16:53:19",
          "2023/06/01, 16:53:20",
          "2023/06/01, 16:53:21",
          "2023/06/01, 16:53:22",
          "2023/06/01, 16:53:23",
          "2023/06/01, 16:53:24",
          "2023/06/01, 16:53:25",
          "2023/06/01, 16:53:26",
          "2023/06/01, 16:53:27",
          "2023/06/01, 16:53:28",
          "2023/06/01, 16:53:29",
          "2023/06/01, 16:53:30",
          "2023/06/01, 16:53:31",
          "2023/06/01, 16:53:32",
          "2023/06/01, 16:53:33",
          "2023/06/01, 16:53:34",
          "2023/06/01, 16:53:35",
          "2023/06/01, 16:53:36",
          "2023/06/01, 16:53:37",
          "2023/06/01, 16:53:38",
          "2023/06/01, 16:53:39",
          "2023/06/01, 16:53:40",
          "2023/06/01, 16:53:41",
          "2023/06/01, 16:53:42",
          "2023/06/01, 16:53:43",
          "2023/06/01, 16:53:44",
          "2023/06/01, 16:53:45",
          "2023/06/01, 16:53:46",
          "2023/06/01, 16:53:47",
          "2023/06/01, 16:53:48",
          "2023/06/01, 16:53:49",
          "2023/06/01, 16:53:50",
          "2023/06/01, 16:53:51",
          "2023/06/01, 16:53:52",
          "2023/06/01, 16:53:53",
          "2023/06/01, 16:53:54",
          "2023/06/01, 16:53:55",
          "2023/06/01, 16:53:56",
          "2023/06/01, 16:53:57",
          "2023/06/01, 16:53:58",
          "2023/06/01, 16:53:59",
          "2023/06/01, 16:54:00",
          "2023/06/01, 16:54:01",
          "2023/06/01, 16:54:02",
          "2023/06/01, 16:54:03",
          "2023/06/01, 16:54:04",
          "2023/06/01, 16:54:05",
          "2023/06/01, 16:54:06",
          "2023/06/01, 16:54:07",
          "2023/06/01, 16:54:08",
          "2023/06/01, 16:54:09",
          "2023/06/01, 16:54:10",
          "2023/06/01, 16:54:11",
          "2023/06/01, 16:54:12",
          "2023/06/01, 16:54:13",
          "2023/06/01, 16:54:14",
          "2023/06/01, 16:54:15",
          "2023/06/01, 16:54:16",
          "2023/06/01, 16:54:17",
          "2023/06/01, 16:54:18",
          "2023/06/01, 16:54:19",
          "2023/06/01, 16:54:20",
          "2023/06/01, 16:54:21",
          "2023/06/01, 16:54:22",
          "2023/06/01, 16:54:23",
          "2023/06/01, 16:54:24",
          "2023/06/01, 16:54:25",
          "2023/06/01, 16:54:26",
          "2023/06/01, 16:54:27",
          "2023/06/01, 16:54:28",
          "2023/06/01, 16:54:29",
          "2023/06/01, 16:54:30",
          "2023/06/01, 16:54:31",
          "2023/06/01, 16:54:32"
         ],
         "xaxis": "x",
         "y": [
          0.10330932264216244,
          0.10326965250074864,
          0.10327261292841286,
          0.1032609685882926,
          0.1033407034445554,
          0.10328919153660536,
          0.10329767818097026,
          0.10328899417538195,
          0.10329116521868854,
          0.10322248260024935,
          0.10333280876278877,
          0.10335945283528418,
          0.10338688632007688,
          0.10330320436041802,
          0.10328149430919438,
          0.1033166250679642,
          0.10332155900076032,
          0.10329373090527952,
          0.10339162307791412,
          0.10328741509933025,
          0.10328346796799451,
          0.10338116289116442,
          0.10324202165007591,
          0.10340642535593361,
          0.1033730709599331,
          0.10324221903923898,
          0.10327695489861072,
          0.10342833274509758,
          0.10337543923873455,
          0.10326017905492335,
          0.10327952072490007,
          0.10335254516452551,
          0.10328998108394444,
          0.1033582686400041,
          0.10326688949018717,
          0.1033260984858498,
          0.10333438769448548,
          0.10333537460304797,
          0.10330695420037955,
          0.10328642849810421,
          0.10326629742980004,
          0.10328938880935311,
          0.10334011135622859,
          0.10329333617351949,
          0.10334109809715301,
          0.10333261145744473,
          0.10327557351440192,
          0.10339576764032245,
          0.10326136318501085,
          0.10329570449423045,
          0.10324557423125952,
          0.10330438845790922,
          0.10327813918236643,
          0.10328267849981784,
          0.10340346495155245,
          0.10334701903630047,
          0.10330261223949493,
          0.10329136254265904,
          0.10328011290170253,
          0.10320629890542478,
          0.10328011279925704,
          0.10332392737269401,
          0.10323077192530036,
          0.10331090149004013,
          0.10327241573482752,
          0.10333182203117758,
          0.10326807358302176,
          0.10328938876278698,
          0.10335590030532331,
          0.1033051779633388,
          0.103310506651178,
          0.1033199801761657,
          0.10330142797436564,
          0.10321202256251126,
          0.10339438622351736,
          0.10337188676465303,
          0.10331070404499769,
          0.10340780685655773,
          0.10339892552699893,
          0.103323335358873,
          0.10337859716266394,
          0.1033355719409883,
          0.10333596660755574,
          0.10325958695728332,
          0.10326412634924054,
          0.10322544327471406,
          0.10332037488929928,
          0.10329530984628946,
          0.10332728266250342,
          0.10327596807852388,
          0.10329984902404249,
          0.10338274185545743,
          0.10324024545960128,
          0.10328800741583109,
          0.1032639289367944,
          0.10322248268406838,
          0.10328327066730708,
          0.10327399449422955,
          0.10329373085405677,
          0.10330478314775973
         ],
         "yaxis": "y"
        }
       ],
       "layout": {
        "legend": {
         "tracegroupgap": 0
        },
        "template": {
         "data": {
          "bar": [
           {
            "error_x": {
             "color": "#2a3f5f"
            },
            "error_y": {
             "color": "#2a3f5f"
            },
            "marker": {
             "line": {
              "color": "#E5ECF6",
              "width": 0.5
             },
             "pattern": {
              "fillmode": "overlay",
              "size": 10,
              "solidity": 0.2
             }
            },
            "type": "bar"
           }
          ],
          "barpolar": [
           {
            "marker": {
             "line": {
              "color": "#E5ECF6",
              "width": 0.5
             },
             "pattern": {
              "fillmode": "overlay",
              "size": 10,
              "solidity": 0.2
             }
            },
            "type": "barpolar"
           }
          ],
          "carpet": [
           {
            "aaxis": {
             "endlinecolor": "#2a3f5f",
             "gridcolor": "white",
             "linecolor": "white",
             "minorgridcolor": "white",
             "startlinecolor": "#2a3f5f"
            },
            "baxis": {
             "endlinecolor": "#2a3f5f",
             "gridcolor": "white",
             "linecolor": "white",
             "minorgridcolor": "white",
             "startlinecolor": "#2a3f5f"
            },
            "type": "carpet"
           }
          ],
          "choropleth": [
           {
            "colorbar": {
             "outlinewidth": 0,
             "ticks": ""
            },
            "type": "choropleth"
           }
          ],
          "contour": [
           {
            "colorbar": {
             "outlinewidth": 0,
             "ticks": ""
            },
            "colorscale": [
             [
              0,
              "#0d0887"
             ],
             [
              0.1111111111111111,
              "#46039f"
             ],
             [
              0.2222222222222222,
              "#7201a8"
             ],
             [
              0.3333333333333333,
              "#9c179e"
             ],
             [
              0.4444444444444444,
              "#bd3786"
             ],
             [
              0.5555555555555556,
              "#d8576b"
             ],
             [
              0.6666666666666666,
              "#ed7953"
             ],
             [
              0.7777777777777778,
              "#fb9f3a"
             ],
             [
              0.8888888888888888,
              "#fdca26"
             ],
             [
              1,
              "#f0f921"
             ]
            ],
            "type": "contour"
           }
          ],
          "contourcarpet": [
           {
            "colorbar": {
             "outlinewidth": 0,
             "ticks": ""
            },
            "type": "contourcarpet"
           }
          ],
          "heatmap": [
           {
            "colorbar": {
             "outlinewidth": 0,
             "ticks": ""
            },
            "colorscale": [
             [
              0,
              "#0d0887"
             ],
             [
              0.1111111111111111,
              "#46039f"
             ],
             [
              0.2222222222222222,
              "#7201a8"
             ],
             [
              0.3333333333333333,
              "#9c179e"
             ],
             [
              0.4444444444444444,
              "#bd3786"
             ],
             [
              0.5555555555555556,
              "#d8576b"
             ],
             [
              0.6666666666666666,
              "#ed7953"
             ],
             [
              0.7777777777777778,
              "#fb9f3a"
             ],
             [
              0.8888888888888888,
              "#fdca26"
             ],
             [
              1,
              "#f0f921"
             ]
            ],
            "type": "heatmap"
           }
          ],
          "heatmapgl": [
           {
            "colorbar": {
             "outlinewidth": 0,
             "ticks": ""
            },
            "colorscale": [
             [
              0,
              "#0d0887"
             ],
             [
              0.1111111111111111,
              "#46039f"
             ],
             [
              0.2222222222222222,
              "#7201a8"
             ],
             [
              0.3333333333333333,
              "#9c179e"
             ],
             [
              0.4444444444444444,
              "#bd3786"
             ],
             [
              0.5555555555555556,
              "#d8576b"
             ],
             [
              0.6666666666666666,
              "#ed7953"
             ],
             [
              0.7777777777777778,
              "#fb9f3a"
             ],
             [
              0.8888888888888888,
              "#fdca26"
             ],
             [
              1,
              "#f0f921"
             ]
            ],
            "type": "heatmapgl"
           }
          ],
          "histogram": [
           {
            "marker": {
             "pattern": {
              "fillmode": "overlay",
              "size": 10,
              "solidity": 0.2
             }
            },
            "type": "histogram"
           }
          ],
          "histogram2d": [
           {
            "colorbar": {
             "outlinewidth": 0,
             "ticks": ""
            },
            "colorscale": [
             [
              0,
              "#0d0887"
             ],
             [
              0.1111111111111111,
              "#46039f"
             ],
             [
              0.2222222222222222,
              "#7201a8"
             ],
             [
              0.3333333333333333,
              "#9c179e"
             ],
             [
              0.4444444444444444,
              "#bd3786"
             ],
             [
              0.5555555555555556,
              "#d8576b"
             ],
             [
              0.6666666666666666,
              "#ed7953"
             ],
             [
              0.7777777777777778,
              "#fb9f3a"
             ],
             [
              0.8888888888888888,
              "#fdca26"
             ],
             [
              1,
              "#f0f921"
             ]
            ],
            "type": "histogram2d"
           }
          ],
          "histogram2dcontour": [
           {
            "colorbar": {
             "outlinewidth": 0,
             "ticks": ""
            },
            "colorscale": [
             [
              0,
              "#0d0887"
             ],
             [
              0.1111111111111111,
              "#46039f"
             ],
             [
              0.2222222222222222,
              "#7201a8"
             ],
             [
              0.3333333333333333,
              "#9c179e"
             ],
             [
              0.4444444444444444,
              "#bd3786"
             ],
             [
              0.5555555555555556,
              "#d8576b"
             ],
             [
              0.6666666666666666,
              "#ed7953"
             ],
             [
              0.7777777777777778,
              "#fb9f3a"
             ],
             [
              0.8888888888888888,
              "#fdca26"
             ],
             [
              1,
              "#f0f921"
             ]
            ],
            "type": "histogram2dcontour"
           }
          ],
          "mesh3d": [
           {
            "colorbar": {
             "outlinewidth": 0,
             "ticks": ""
            },
            "type": "mesh3d"
           }
          ],
          "parcoords": [
           {
            "line": {
             "colorbar": {
              "outlinewidth": 0,
              "ticks": ""
             }
            },
            "type": "parcoords"
           }
          ],
          "pie": [
           {
            "automargin": true,
            "type": "pie"
           }
          ],
          "scatter": [
           {
            "fillpattern": {
             "fillmode": "overlay",
             "size": 10,
             "solidity": 0.2
            },
            "type": "scatter"
           }
          ],
          "scatter3d": [
           {
            "line": {
             "colorbar": {
              "outlinewidth": 0,
              "ticks": ""
             }
            },
            "marker": {
             "colorbar": {
              "outlinewidth": 0,
              "ticks": ""
             }
            },
            "type": "scatter3d"
           }
          ],
          "scattercarpet": [
           {
            "marker": {
             "colorbar": {
              "outlinewidth": 0,
              "ticks": ""
             }
            },
            "type": "scattercarpet"
           }
          ],
          "scattergeo": [
           {
            "marker": {
             "colorbar": {
              "outlinewidth": 0,
              "ticks": ""
             }
            },
            "type": "scattergeo"
           }
          ],
          "scattergl": [
           {
            "marker": {
             "colorbar": {
              "outlinewidth": 0,
              "ticks": ""
             }
            },
            "type": "scattergl"
           }
          ],
          "scattermapbox": [
           {
            "marker": {
             "colorbar": {
              "outlinewidth": 0,
              "ticks": ""
             }
            },
            "type": "scattermapbox"
           }
          ],
          "scatterpolar": [
           {
            "marker": {
             "colorbar": {
              "outlinewidth": 0,
              "ticks": ""
             }
            },
            "type": "scatterpolar"
           }
          ],
          "scatterpolargl": [
           {
            "marker": {
             "colorbar": {
              "outlinewidth": 0,
              "ticks": ""
             }
            },
            "type": "scatterpolargl"
           }
          ],
          "scatterternary": [
           {
            "marker": {
             "colorbar": {
              "outlinewidth": 0,
              "ticks": ""
             }
            },
            "type": "scatterternary"
           }
          ],
          "surface": [
           {
            "colorbar": {
             "outlinewidth": 0,
             "ticks": ""
            },
            "colorscale": [
             [
              0,
              "#0d0887"
             ],
             [
              0.1111111111111111,
              "#46039f"
             ],
             [
              0.2222222222222222,
              "#7201a8"
             ],
             [
              0.3333333333333333,
              "#9c179e"
             ],
             [
              0.4444444444444444,
              "#bd3786"
             ],
             [
              0.5555555555555556,
              "#d8576b"
             ],
             [
              0.6666666666666666,
              "#ed7953"
             ],
             [
              0.7777777777777778,
              "#fb9f3a"
             ],
             [
              0.8888888888888888,
              "#fdca26"
             ],
             [
              1,
              "#f0f921"
             ]
            ],
            "type": "surface"
           }
          ],
          "table": [
           {
            "cells": {
             "fill": {
              "color": "#EBF0F8"
             },
             "line": {
              "color": "white"
             }
            },
            "header": {
             "fill": {
              "color": "#C8D4E3"
             },
             "line": {
              "color": "white"
             }
            },
            "type": "table"
           }
          ]
         },
         "layout": {
          "annotationdefaults": {
           "arrowcolor": "#2a3f5f",
           "arrowhead": 0,
           "arrowwidth": 1
          },
          "autotypenumbers": "strict",
          "coloraxis": {
           "colorbar": {
            "outlinewidth": 0,
            "ticks": ""
           }
          },
          "colorscale": {
           "diverging": [
            [
             0,
             "#8e0152"
            ],
            [
             0.1,
             "#c51b7d"
            ],
            [
             0.2,
             "#de77ae"
            ],
            [
             0.3,
             "#f1b6da"
            ],
            [
             0.4,
             "#fde0ef"
            ],
            [
             0.5,
             "#f7f7f7"
            ],
            [
             0.6,
             "#e6f5d0"
            ],
            [
             0.7,
             "#b8e186"
            ],
            [
             0.8,
             "#7fbc41"
            ],
            [
             0.9,
             "#4d9221"
            ],
            [
             1,
             "#276419"
            ]
           ],
           "sequential": [
            [
             0,
             "#0d0887"
            ],
            [
             0.1111111111111111,
             "#46039f"
            ],
            [
             0.2222222222222222,
             "#7201a8"
            ],
            [
             0.3333333333333333,
             "#9c179e"
            ],
            [
             0.4444444444444444,
             "#bd3786"
            ],
            [
             0.5555555555555556,
             "#d8576b"
            ],
            [
             0.6666666666666666,
             "#ed7953"
            ],
            [
             0.7777777777777778,
             "#fb9f3a"
            ],
            [
             0.8888888888888888,
             "#fdca26"
            ],
            [
             1,
             "#f0f921"
            ]
           ],
           "sequentialminus": [
            [
             0,
             "#0d0887"
            ],
            [
             0.1111111111111111,
             "#46039f"
            ],
            [
             0.2222222222222222,
             "#7201a8"
            ],
            [
             0.3333333333333333,
             "#9c179e"
            ],
            [
             0.4444444444444444,
             "#bd3786"
            ],
            [
             0.5555555555555556,
             "#d8576b"
            ],
            [
             0.6666666666666666,
             "#ed7953"
            ],
            [
             0.7777777777777778,
             "#fb9f3a"
            ],
            [
             0.8888888888888888,
             "#fdca26"
            ],
            [
             1,
             "#f0f921"
            ]
           ]
          },
          "colorway": [
           "#636efa",
           "#EF553B",
           "#00cc96",
           "#ab63fa",
           "#FFA15A",
           "#19d3f3",
           "#FF6692",
           "#B6E880",
           "#FF97FF",
           "#FECB52"
          ],
          "font": {
           "color": "#2a3f5f"
          },
          "geo": {
           "bgcolor": "white",
           "lakecolor": "white",
           "landcolor": "#E5ECF6",
           "showlakes": true,
           "showland": true,
           "subunitcolor": "white"
          },
          "hoverlabel": {
           "align": "left"
          },
          "hovermode": "closest",
          "mapbox": {
           "style": "light"
          },
          "paper_bgcolor": "white",
          "plot_bgcolor": "#E5ECF6",
          "polar": {
           "angularaxis": {
            "gridcolor": "white",
            "linecolor": "white",
            "ticks": ""
           },
           "bgcolor": "#E5ECF6",
           "radialaxis": {
            "gridcolor": "white",
            "linecolor": "white",
            "ticks": ""
           }
          },
          "scene": {
           "xaxis": {
            "backgroundcolor": "#E5ECF6",
            "gridcolor": "white",
            "gridwidth": 2,
            "linecolor": "white",
            "showbackground": true,
            "ticks": "",
            "zerolinecolor": "white"
           },
           "yaxis": {
            "backgroundcolor": "#E5ECF6",
            "gridcolor": "white",
            "gridwidth": 2,
            "linecolor": "white",
            "showbackground": true,
            "ticks": "",
            "zerolinecolor": "white"
           },
           "zaxis": {
            "backgroundcolor": "#E5ECF6",
            "gridcolor": "white",
            "gridwidth": 2,
            "linecolor": "white",
            "showbackground": true,
            "ticks": "",
            "zerolinecolor": "white"
           }
          },
          "shapedefaults": {
           "line": {
            "color": "#2a3f5f"
           }
          },
          "ternary": {
           "aaxis": {
            "gridcolor": "white",
            "linecolor": "white",
            "ticks": ""
           },
           "baxis": {
            "gridcolor": "white",
            "linecolor": "white",
            "ticks": ""
           },
           "bgcolor": "#E5ECF6",
           "caxis": {
            "gridcolor": "white",
            "linecolor": "white",
            "ticks": ""
           }
          },
          "title": {
           "x": 0.05
          },
          "xaxis": {
           "automargin": true,
           "gridcolor": "white",
           "linecolor": "white",
           "ticks": "",
           "title": {
            "standoff": 15
           },
           "zerolinecolor": "white",
           "zerolinewidth": 2
          },
          "yaxis": {
           "automargin": true,
           "gridcolor": "white",
           "linecolor": "white",
           "ticks": "",
           "title": {
            "standoff": 15
           },
           "zerolinecolor": "white",
           "zerolinewidth": 2
          }
         }
        },
        "title": {
         "text": "Voltage [V] over time"
        },
        "xaxis": {
         "anchor": "y",
         "domain": [
          0,
          1
         ],
         "title": {
          "text": "x"
         }
        },
        "yaxis": {
         "anchor": "x",
         "domain": [
          0,
          1
         ],
         "title": {
          "text": "y"
         }
        }
       }
      },
      "text/html": [
       "<div>                            <div id=\"9fa51d80-7117-4259-b83b-82ebc6c57ee9\" class=\"plotly-graph-div\" style=\"height:525px; width:100%;\"></div>            <script type=\"text/javascript\">                require([\"plotly\"], function(Plotly) {                    window.PLOTLYENV=window.PLOTLYENV || {};                                    if (document.getElementById(\"9fa51d80-7117-4259-b83b-82ebc6c57ee9\")) {                    Plotly.newPlot(                        \"9fa51d80-7117-4259-b83b-82ebc6c57ee9\",                        [{\"hovertemplate\":\"x=%{x}<br>y=%{y}<extra></extra>\",\"legendgroup\":\"\",\"line\":{\"color\":\"#636efa\",\"dash\":\"solid\"},\"marker\":{\"symbol\":\"circle\"},\"mode\":\"lines\",\"name\":\"\",\"orientation\":\"v\",\"showlegend\":false,\"x\":[\"2023/06/01, 16:52:53\",\"2023/06/01, 16:52:54\",\"2023/06/01, 16:52:55\",\"2023/06/01, 16:52:56\",\"2023/06/01, 16:52:57\",\"2023/06/01, 16:52:58\",\"2023/06/01, 16:52:59\",\"2023/06/01, 16:53:00\",\"2023/06/01, 16:53:01\",\"2023/06/01, 16:53:02\",\"2023/06/01, 16:53:03\",\"2023/06/01, 16:53:04\",\"2023/06/01, 16:53:05\",\"2023/06/01, 16:53:06\",\"2023/06/01, 16:53:07\",\"2023/06/01, 16:53:08\",\"2023/06/01, 16:53:09\",\"2023/06/01, 16:53:10\",\"2023/06/01, 16:53:11\",\"2023/06/01, 16:53:12\",\"2023/06/01, 16:53:13\",\"2023/06/01, 16:53:14\",\"2023/06/01, 16:53:15\",\"2023/06/01, 16:53:16\",\"2023/06/01, 16:53:17\",\"2023/06/01, 16:53:18\",\"2023/06/01, 16:53:19\",\"2023/06/01, 16:53:20\",\"2023/06/01, 16:53:21\",\"2023/06/01, 16:53:22\",\"2023/06/01, 16:53:23\",\"2023/06/01, 16:53:24\",\"2023/06/01, 16:53:25\",\"2023/06/01, 16:53:26\",\"2023/06/01, 16:53:27\",\"2023/06/01, 16:53:28\",\"2023/06/01, 16:53:29\",\"2023/06/01, 16:53:30\",\"2023/06/01, 16:53:31\",\"2023/06/01, 16:53:32\",\"2023/06/01, 16:53:33\",\"2023/06/01, 16:53:34\",\"2023/06/01, 16:53:35\",\"2023/06/01, 16:53:36\",\"2023/06/01, 16:53:37\",\"2023/06/01, 16:53:38\",\"2023/06/01, 16:53:39\",\"2023/06/01, 16:53:40\",\"2023/06/01, 16:53:41\",\"2023/06/01, 16:53:42\",\"2023/06/01, 16:53:43\",\"2023/06/01, 16:53:44\",\"2023/06/01, 16:53:45\",\"2023/06/01, 16:53:46\",\"2023/06/01, 16:53:47\",\"2023/06/01, 16:53:48\",\"2023/06/01, 16:53:49\",\"2023/06/01, 16:53:50\",\"2023/06/01, 16:53:51\",\"2023/06/01, 16:53:52\",\"2023/06/01, 16:53:53\",\"2023/06/01, 16:53:54\",\"2023/06/01, 16:53:55\",\"2023/06/01, 16:53:56\",\"2023/06/01, 16:53:57\",\"2023/06/01, 16:53:58\",\"2023/06/01, 16:53:59\",\"2023/06/01, 16:54:00\",\"2023/06/01, 16:54:01\",\"2023/06/01, 16:54:02\",\"2023/06/01, 16:54:03\",\"2023/06/01, 16:54:04\",\"2023/06/01, 16:54:05\",\"2023/06/01, 16:54:06\",\"2023/06/01, 16:54:07\",\"2023/06/01, 16:54:08\",\"2023/06/01, 16:54:09\",\"2023/06/01, 16:54:10\",\"2023/06/01, 16:54:11\",\"2023/06/01, 16:54:12\",\"2023/06/01, 16:54:13\",\"2023/06/01, 16:54:14\",\"2023/06/01, 16:54:15\",\"2023/06/01, 16:54:16\",\"2023/06/01, 16:54:17\",\"2023/06/01, 16:54:18\",\"2023/06/01, 16:54:19\",\"2023/06/01, 16:54:20\",\"2023/06/01, 16:54:21\",\"2023/06/01, 16:54:22\",\"2023/06/01, 16:54:23\",\"2023/06/01, 16:54:24\",\"2023/06/01, 16:54:25\",\"2023/06/01, 16:54:26\",\"2023/06/01, 16:54:27\",\"2023/06/01, 16:54:28\",\"2023/06/01, 16:54:29\",\"2023/06/01, 16:54:30\",\"2023/06/01, 16:54:31\",\"2023/06/01, 16:54:32\"],\"xaxis\":\"x\",\"y\":[0.10330932264216244,0.10326965250074864,0.10327261292841286,0.1032609685882926,0.1033407034445554,0.10328919153660536,0.10329767818097026,0.10328899417538195,0.10329116521868854,0.10322248260024935,0.10333280876278877,0.10335945283528418,0.10338688632007688,0.10330320436041802,0.10328149430919438,0.1033166250679642,0.10332155900076032,0.10329373090527952,0.10339162307791412,0.10328741509933025,0.10328346796799451,0.10338116289116442,0.10324202165007591,0.10340642535593361,0.1033730709599331,0.10324221903923898,0.10327695489861072,0.10342833274509758,0.10337543923873455,0.10326017905492335,0.10327952072490007,0.10335254516452551,0.10328998108394444,0.1033582686400041,0.10326688949018717,0.1033260984858498,0.10333438769448548,0.10333537460304797,0.10330695420037955,0.10328642849810421,0.10326629742980004,0.10328938880935311,0.10334011135622859,0.10329333617351949,0.10334109809715301,0.10333261145744473,0.10327557351440192,0.10339576764032245,0.10326136318501085,0.10329570449423045,0.10324557423125952,0.10330438845790922,0.10327813918236643,0.10328267849981784,0.10340346495155245,0.10334701903630047,0.10330261223949493,0.10329136254265904,0.10328011290170253,0.10320629890542478,0.10328011279925704,0.10332392737269401,0.10323077192530036,0.10331090149004013,0.10327241573482752,0.10333182203117758,0.10326807358302176,0.10328938876278698,0.10335590030532331,0.1033051779633388,0.103310506651178,0.1033199801761657,0.10330142797436564,0.10321202256251126,0.10339438622351736,0.10337188676465303,0.10331070404499769,0.10340780685655773,0.10339892552699893,0.103323335358873,0.10337859716266394,0.1033355719409883,0.10333596660755574,0.10325958695728332,0.10326412634924054,0.10322544327471406,0.10332037488929928,0.10329530984628946,0.10332728266250342,0.10327596807852388,0.10329984902404249,0.10338274185545743,0.10324024545960128,0.10328800741583109,0.1032639289367944,0.10322248268406838,0.10328327066730708,0.10327399449422955,0.10329373085405677,0.10330478314775973],\"yaxis\":\"y\",\"type\":\"scatter\"}],                        {\"template\":{\"data\":{\"histogram2dcontour\":[{\"type\":\"histogram2dcontour\",\"colorbar\":{\"outlinewidth\":0,\"ticks\":\"\"},\"colorscale\":[[0.0,\"#0d0887\"],[0.1111111111111111,\"#46039f\"],[0.2222222222222222,\"#7201a8\"],[0.3333333333333333,\"#9c179e\"],[0.4444444444444444,\"#bd3786\"],[0.5555555555555556,\"#d8576b\"],[0.6666666666666666,\"#ed7953\"],[0.7777777777777778,\"#fb9f3a\"],[0.8888888888888888,\"#fdca26\"],[1.0,\"#f0f921\"]]}],\"choropleth\":[{\"type\":\"choropleth\",\"colorbar\":{\"outlinewidth\":0,\"ticks\":\"\"}}],\"histogram2d\":[{\"type\":\"histogram2d\",\"colorbar\":{\"outlinewidth\":0,\"ticks\":\"\"},\"colorscale\":[[0.0,\"#0d0887\"],[0.1111111111111111,\"#46039f\"],[0.2222222222222222,\"#7201a8\"],[0.3333333333333333,\"#9c179e\"],[0.4444444444444444,\"#bd3786\"],[0.5555555555555556,\"#d8576b\"],[0.6666666666666666,\"#ed7953\"],[0.7777777777777778,\"#fb9f3a\"],[0.8888888888888888,\"#fdca26\"],[1.0,\"#f0f921\"]]}],\"heatmap\":[{\"type\":\"heatmap\",\"colorbar\":{\"outlinewidth\":0,\"ticks\":\"\"},\"colorscale\":[[0.0,\"#0d0887\"],[0.1111111111111111,\"#46039f\"],[0.2222222222222222,\"#7201a8\"],[0.3333333333333333,\"#9c179e\"],[0.4444444444444444,\"#bd3786\"],[0.5555555555555556,\"#d8576b\"],[0.6666666666666666,\"#ed7953\"],[0.7777777777777778,\"#fb9f3a\"],[0.8888888888888888,\"#fdca26\"],[1.0,\"#f0f921\"]]}],\"heatmapgl\":[{\"type\":\"heatmapgl\",\"colorbar\":{\"outlinewidth\":0,\"ticks\":\"\"},\"colorscale\":[[0.0,\"#0d0887\"],[0.1111111111111111,\"#46039f\"],[0.2222222222222222,\"#7201a8\"],[0.3333333333333333,\"#9c179e\"],[0.4444444444444444,\"#bd3786\"],[0.5555555555555556,\"#d8576b\"],[0.6666666666666666,\"#ed7953\"],[0.7777777777777778,\"#fb9f3a\"],[0.8888888888888888,\"#fdca26\"],[1.0,\"#f0f921\"]]}],\"contourcarpet\":[{\"type\":\"contourcarpet\",\"colorbar\":{\"outlinewidth\":0,\"ticks\":\"\"}}],\"contour\":[{\"type\":\"contour\",\"colorbar\":{\"outlinewidth\":0,\"ticks\":\"\"},\"colorscale\":[[0.0,\"#0d0887\"],[0.1111111111111111,\"#46039f\"],[0.2222222222222222,\"#7201a8\"],[0.3333333333333333,\"#9c179e\"],[0.4444444444444444,\"#bd3786\"],[0.5555555555555556,\"#d8576b\"],[0.6666666666666666,\"#ed7953\"],[0.7777777777777778,\"#fb9f3a\"],[0.8888888888888888,\"#fdca26\"],[1.0,\"#f0f921\"]]}],\"surface\":[{\"type\":\"surface\",\"colorbar\":{\"outlinewidth\":0,\"ticks\":\"\"},\"colorscale\":[[0.0,\"#0d0887\"],[0.1111111111111111,\"#46039f\"],[0.2222222222222222,\"#7201a8\"],[0.3333333333333333,\"#9c179e\"],[0.4444444444444444,\"#bd3786\"],[0.5555555555555556,\"#d8576b\"],[0.6666666666666666,\"#ed7953\"],[0.7777777777777778,\"#fb9f3a\"],[0.8888888888888888,\"#fdca26\"],[1.0,\"#f0f921\"]]}],\"mesh3d\":[{\"type\":\"mesh3d\",\"colorbar\":{\"outlinewidth\":0,\"ticks\":\"\"}}],\"scatter\":[{\"fillpattern\":{\"fillmode\":\"overlay\",\"size\":10,\"solidity\":0.2},\"type\":\"scatter\"}],\"parcoords\":[{\"type\":\"parcoords\",\"line\":{\"colorbar\":{\"outlinewidth\":0,\"ticks\":\"\"}}}],\"scatterpolargl\":[{\"type\":\"scatterpolargl\",\"marker\":{\"colorbar\":{\"outlinewidth\":0,\"ticks\":\"\"}}}],\"bar\":[{\"error_x\":{\"color\":\"#2a3f5f\"},\"error_y\":{\"color\":\"#2a3f5f\"},\"marker\":{\"line\":{\"color\":\"#E5ECF6\",\"width\":0.5},\"pattern\":{\"fillmode\":\"overlay\",\"size\":10,\"solidity\":0.2}},\"type\":\"bar\"}],\"scattergeo\":[{\"type\":\"scattergeo\",\"marker\":{\"colorbar\":{\"outlinewidth\":0,\"ticks\":\"\"}}}],\"scatterpolar\":[{\"type\":\"scatterpolar\",\"marker\":{\"colorbar\":{\"outlinewidth\":0,\"ticks\":\"\"}}}],\"histogram\":[{\"marker\":{\"pattern\":{\"fillmode\":\"overlay\",\"size\":10,\"solidity\":0.2}},\"type\":\"histogram\"}],\"scattergl\":[{\"type\":\"scattergl\",\"marker\":{\"colorbar\":{\"outlinewidth\":0,\"ticks\":\"\"}}}],\"scatter3d\":[{\"type\":\"scatter3d\",\"line\":{\"colorbar\":{\"outlinewidth\":0,\"ticks\":\"\"}},\"marker\":{\"colorbar\":{\"outlinewidth\":0,\"ticks\":\"\"}}}],\"scattermapbox\":[{\"type\":\"scattermapbox\",\"marker\":{\"colorbar\":{\"outlinewidth\":0,\"ticks\":\"\"}}}],\"scatterternary\":[{\"type\":\"scatterternary\",\"marker\":{\"colorbar\":{\"outlinewidth\":0,\"ticks\":\"\"}}}],\"scattercarpet\":[{\"type\":\"scattercarpet\",\"marker\":{\"colorbar\":{\"outlinewidth\":0,\"ticks\":\"\"}}}],\"carpet\":[{\"aaxis\":{\"endlinecolor\":\"#2a3f5f\",\"gridcolor\":\"white\",\"linecolor\":\"white\",\"minorgridcolor\":\"white\",\"startlinecolor\":\"#2a3f5f\"},\"baxis\":{\"endlinecolor\":\"#2a3f5f\",\"gridcolor\":\"white\",\"linecolor\":\"white\",\"minorgridcolor\":\"white\",\"startlinecolor\":\"#2a3f5f\"},\"type\":\"carpet\"}],\"table\":[{\"cells\":{\"fill\":{\"color\":\"#EBF0F8\"},\"line\":{\"color\":\"white\"}},\"header\":{\"fill\":{\"color\":\"#C8D4E3\"},\"line\":{\"color\":\"white\"}},\"type\":\"table\"}],\"barpolar\":[{\"marker\":{\"line\":{\"color\":\"#E5ECF6\",\"width\":0.5},\"pattern\":{\"fillmode\":\"overlay\",\"size\":10,\"solidity\":0.2}},\"type\":\"barpolar\"}],\"pie\":[{\"automargin\":true,\"type\":\"pie\"}]},\"layout\":{\"autotypenumbers\":\"strict\",\"colorway\":[\"#636efa\",\"#EF553B\",\"#00cc96\",\"#ab63fa\",\"#FFA15A\",\"#19d3f3\",\"#FF6692\",\"#B6E880\",\"#FF97FF\",\"#FECB52\"],\"font\":{\"color\":\"#2a3f5f\"},\"hovermode\":\"closest\",\"hoverlabel\":{\"align\":\"left\"},\"paper_bgcolor\":\"white\",\"plot_bgcolor\":\"#E5ECF6\",\"polar\":{\"bgcolor\":\"#E5ECF6\",\"angularaxis\":{\"gridcolor\":\"white\",\"linecolor\":\"white\",\"ticks\":\"\"},\"radialaxis\":{\"gridcolor\":\"white\",\"linecolor\":\"white\",\"ticks\":\"\"}},\"ternary\":{\"bgcolor\":\"#E5ECF6\",\"aaxis\":{\"gridcolor\":\"white\",\"linecolor\":\"white\",\"ticks\":\"\"},\"baxis\":{\"gridcolor\":\"white\",\"linecolor\":\"white\",\"ticks\":\"\"},\"caxis\":{\"gridcolor\":\"white\",\"linecolor\":\"white\",\"ticks\":\"\"}},\"coloraxis\":{\"colorbar\":{\"outlinewidth\":0,\"ticks\":\"\"}},\"colorscale\":{\"sequential\":[[0.0,\"#0d0887\"],[0.1111111111111111,\"#46039f\"],[0.2222222222222222,\"#7201a8\"],[0.3333333333333333,\"#9c179e\"],[0.4444444444444444,\"#bd3786\"],[0.5555555555555556,\"#d8576b\"],[0.6666666666666666,\"#ed7953\"],[0.7777777777777778,\"#fb9f3a\"],[0.8888888888888888,\"#fdca26\"],[1.0,\"#f0f921\"]],\"sequentialminus\":[[0.0,\"#0d0887\"],[0.1111111111111111,\"#46039f\"],[0.2222222222222222,\"#7201a8\"],[0.3333333333333333,\"#9c179e\"],[0.4444444444444444,\"#bd3786\"],[0.5555555555555556,\"#d8576b\"],[0.6666666666666666,\"#ed7953\"],[0.7777777777777778,\"#fb9f3a\"],[0.8888888888888888,\"#fdca26\"],[1.0,\"#f0f921\"]],\"diverging\":[[0,\"#8e0152\"],[0.1,\"#c51b7d\"],[0.2,\"#de77ae\"],[0.3,\"#f1b6da\"],[0.4,\"#fde0ef\"],[0.5,\"#f7f7f7\"],[0.6,\"#e6f5d0\"],[0.7,\"#b8e186\"],[0.8,\"#7fbc41\"],[0.9,\"#4d9221\"],[1,\"#276419\"]]},\"xaxis\":{\"gridcolor\":\"white\",\"linecolor\":\"white\",\"ticks\":\"\",\"title\":{\"standoff\":15},\"zerolinecolor\":\"white\",\"automargin\":true,\"zerolinewidth\":2},\"yaxis\":{\"gridcolor\":\"white\",\"linecolor\":\"white\",\"ticks\":\"\",\"title\":{\"standoff\":15},\"zerolinecolor\":\"white\",\"automargin\":true,\"zerolinewidth\":2},\"scene\":{\"xaxis\":{\"backgroundcolor\":\"#E5ECF6\",\"gridcolor\":\"white\",\"linecolor\":\"white\",\"showbackground\":true,\"ticks\":\"\",\"zerolinecolor\":\"white\",\"gridwidth\":2},\"yaxis\":{\"backgroundcolor\":\"#E5ECF6\",\"gridcolor\":\"white\",\"linecolor\":\"white\",\"showbackground\":true,\"ticks\":\"\",\"zerolinecolor\":\"white\",\"gridwidth\":2},\"zaxis\":{\"backgroundcolor\":\"#E5ECF6\",\"gridcolor\":\"white\",\"linecolor\":\"white\",\"showbackground\":true,\"ticks\":\"\",\"zerolinecolor\":\"white\",\"gridwidth\":2}},\"shapedefaults\":{\"line\":{\"color\":\"#2a3f5f\"}},\"annotationdefaults\":{\"arrowcolor\":\"#2a3f5f\",\"arrowhead\":0,\"arrowwidth\":1},\"geo\":{\"bgcolor\":\"white\",\"landcolor\":\"#E5ECF6\",\"subunitcolor\":\"white\",\"showland\":true,\"showlakes\":true,\"lakecolor\":\"white\"},\"title\":{\"x\":0.05},\"mapbox\":{\"style\":\"light\"}}},\"xaxis\":{\"anchor\":\"y\",\"domain\":[0.0,1.0],\"title\":{\"text\":\"x\"}},\"yaxis\":{\"anchor\":\"x\",\"domain\":[0.0,1.0],\"title\":{\"text\":\"y\"}},\"legend\":{\"tracegroupgap\":0},\"title\":{\"text\":\"Voltage [V] over time\"}},                        {\"responsive\": true}                    ).then(function(){\n",
       "                            \n",
       "var gd = document.getElementById('9fa51d80-7117-4259-b83b-82ebc6c57ee9');\n",
       "var x = new MutationObserver(function (mutations, observer) {{\n",
       "        var display = window.getComputedStyle(gd).display;\n",
       "        if (!display || display === 'none') {{\n",
       "            console.log([gd, 'removed!']);\n",
       "            Plotly.purge(gd);\n",
       "            observer.disconnect();\n",
       "        }}\n",
       "}});\n",
       "\n",
       "// Listen for the removal of the full notebook cells\n",
       "var notebookContainer = gd.closest('#notebook-container');\n",
       "if (notebookContainer) {{\n",
       "    x.observe(notebookContainer, {childList: true});\n",
       "}}\n",
       "\n",
       "// Listen for the clearing of the current output cell\n",
       "var outputEl = gd.closest('.output');\n",
       "if (outputEl) {{\n",
       "    x.observe(outputEl, {childList: true});\n",
       "}}\n",
       "\n",
       "                        })                };                });            </script>        </div>"
      ]
     },
     "metadata": {},
     "output_type": "display_data"
    }
   ],
   "source": [
    "fig_V = px.line(x = averaged_dictionary['AIN56']['Time'], y = averaged_dictionary['AIN56']['V [V]'], title='Voltage [V] over time')\n",
    "fig_V.show()"
   ]
  },
  {
   "cell_type": "code",
   "execution_count": 56,
   "id": "60ff7afa",
   "metadata": {},
   "outputs": [
    {
     "data": {
      "application/vnd.plotly.v1+json": {
       "config": {
        "plotlyServerURL": "https://plot.ly"
       },
       "data": [
        {
         "hovertemplate": "x=%{x}<br>y=%{y}<extra></extra>",
         "legendgroup": "",
         "line": {
          "color": "#636efa",
          "dash": "solid"
         },
         "marker": {
          "symbol": "circle"
         },
         "mode": "lines",
         "name": "",
         "orientation": "v",
         "showlegend": false,
         "type": "scatter",
         "x": [
          "2023/06/01, 16:52:53",
          "2023/06/01, 16:52:54",
          "2023/06/01, 16:52:55",
          "2023/06/01, 16:52:56",
          "2023/06/01, 16:52:57",
          "2023/06/01, 16:52:58",
          "2023/06/01, 16:52:59",
          "2023/06/01, 16:53:00",
          "2023/06/01, 16:53:01",
          "2023/06/01, 16:53:02",
          "2023/06/01, 16:53:03",
          "2023/06/01, 16:53:04",
          "2023/06/01, 16:53:05",
          "2023/06/01, 16:53:06",
          "2023/06/01, 16:53:07",
          "2023/06/01, 16:53:08",
          "2023/06/01, 16:53:09",
          "2023/06/01, 16:53:10",
          "2023/06/01, 16:53:11",
          "2023/06/01, 16:53:12",
          "2023/06/01, 16:53:13",
          "2023/06/01, 16:53:14",
          "2023/06/01, 16:53:15",
          "2023/06/01, 16:53:16",
          "2023/06/01, 16:53:17",
          "2023/06/01, 16:53:18",
          "2023/06/01, 16:53:19",
          "2023/06/01, 16:53:20",
          "2023/06/01, 16:53:21",
          "2023/06/01, 16:53:22",
          "2023/06/01, 16:53:23",
          "2023/06/01, 16:53:24",
          "2023/06/01, 16:53:25",
          "2023/06/01, 16:53:26",
          "2023/06/01, 16:53:27",
          "2023/06/01, 16:53:28",
          "2023/06/01, 16:53:29",
          "2023/06/01, 16:53:30",
          "2023/06/01, 16:53:31",
          "2023/06/01, 16:53:32",
          "2023/06/01, 16:53:33",
          "2023/06/01, 16:53:34",
          "2023/06/01, 16:53:35",
          "2023/06/01, 16:53:36",
          "2023/06/01, 16:53:37",
          "2023/06/01, 16:53:38",
          "2023/06/01, 16:53:39",
          "2023/06/01, 16:53:40",
          "2023/06/01, 16:53:41",
          "2023/06/01, 16:53:42",
          "2023/06/01, 16:53:43",
          "2023/06/01, 16:53:44",
          "2023/06/01, 16:53:45",
          "2023/06/01, 16:53:46",
          "2023/06/01, 16:53:47",
          "2023/06/01, 16:53:48",
          "2023/06/01, 16:53:49",
          "2023/06/01, 16:53:50",
          "2023/06/01, 16:53:51",
          "2023/06/01, 16:53:52",
          "2023/06/01, 16:53:53",
          "2023/06/01, 16:53:54",
          "2023/06/01, 16:53:55",
          "2023/06/01, 16:53:56",
          "2023/06/01, 16:53:57",
          "2023/06/01, 16:53:58",
          "2023/06/01, 16:53:59",
          "2023/06/01, 16:54:00",
          "2023/06/01, 16:54:01",
          "2023/06/01, 16:54:02",
          "2023/06/01, 16:54:03",
          "2023/06/01, 16:54:04",
          "2023/06/01, 16:54:05",
          "2023/06/01, 16:54:06",
          "2023/06/01, 16:54:07",
          "2023/06/01, 16:54:08",
          "2023/06/01, 16:54:09",
          "2023/06/01, 16:54:10",
          "2023/06/01, 16:54:11",
          "2023/06/01, 16:54:12",
          "2023/06/01, 16:54:13",
          "2023/06/01, 16:54:14",
          "2023/06/01, 16:54:15",
          "2023/06/01, 16:54:16",
          "2023/06/01, 16:54:17",
          "2023/06/01, 16:54:18",
          "2023/06/01, 16:54:19",
          "2023/06/01, 16:54:20",
          "2023/06/01, 16:54:21",
          "2023/06/01, 16:54:22",
          "2023/06/01, 16:54:23",
          "2023/06/01, 16:54:24",
          "2023/06/01, 16:54:25",
          "2023/06/01, 16:54:26",
          "2023/06/01, 16:54:27",
          "2023/06/01, 16:54:28",
          "2023/06/01, 16:54:29",
          "2023/06/01, 16:54:30",
          "2023/06/01, 16:54:31",
          "2023/06/01, 16:54:32"
         ],
         "xaxis": "x",
         "y": [
          20744.843904048685,
          20736.878012198522,
          20737.472475584913,
          20735.134254677232,
          20751.145269991044,
          20740.80151337457,
          20742.50565882937,
          20740.76188260682,
          20741.197835078023,
          20727.406144628385,
          20749.559992527866,
          20754.910207888388,
          20760.418939774474,
          20743.615333417274,
          20739.2558853804,
          20746.310254611286,
          20747.301004168738,
          20741.71303318866,
          20761.37009596669,
          20740.4447990623,
          20739.65220240854,
          20759.269656860324,
          20731.329648609622,
          20764.342440950524,
          20757.644771070904,
          20731.36928498775,
          20738.344357150745,
          20768.741515079837,
          20758.120329063164,
          20734.97571384003,
          20738.859583313264,
          20753.52312540673,
          20740.960057016957,
          20754.672417671507,
          20736.323190800635,
          20748.2125473594,
          20749.87704708544,
          20750.075221495576,
          20744.368313329225,
          20740.246686366307,
          20736.204303172697,
          20740.841126376126,
          20751.02637675273,
          20741.63376978303,
          20751.224517500603,
          20749.52037298087,
          20738.06697076344,
          20762.202337414146,
          20735.213490966038,
          20742.109336190853,
          20732.043018325207,
          20743.853103997837,
          20738.582165133823,
          20739.49367466222,
          20763.74798223945,
          20752.413461104516,
          20743.496433633518,
          20741.23745836527,
          20738.97849431778,
          20724.1564067118,
          20738.978473746396,
          20747.776580862253,
          20729.070667730997,
          20745.160941775124,
          20737.432878479423,
          20749.36185365012,
          20736.560960446135,
          20740.8411170255,
          20754.196848458494,
          20744.01163922466,
          20745.081656863054,
          20746.98397111761,
          20743.258629390693,
          20725.30573544403,
          20761.924944481398,
          20757.406980854023,
          20745.121294176242,
          20764.619850714404,
          20762.836451204606,
          20747.65770258494,
          20758.754450334123,
          20750.114847588015,
          20750.19409790276,
          20734.85681873159,
          20735.768343220992,
          20728.000657573106,
          20747.063230782984,
          20742.030089616357,
          20748.450333836026,
          20738.146200506802,
          20742.94157109287,
          20759.58671796334,
          20730.97298385568,
          20740.563738118693,
          20735.72870216755,
          20727.406161459516,
          20739.612583796603,
          20737.74989843967,
          20741.713022902968,
          20743.9323589879
         ],
         "yaxis": "y"
        }
       ],
       "layout": {
        "legend": {
         "tracegroupgap": 0
        },
        "template": {
         "data": {
          "bar": [
           {
            "error_x": {
             "color": "#2a3f5f"
            },
            "error_y": {
             "color": "#2a3f5f"
            },
            "marker": {
             "line": {
              "color": "#E5ECF6",
              "width": 0.5
             },
             "pattern": {
              "fillmode": "overlay",
              "size": 10,
              "solidity": 0.2
             }
            },
            "type": "bar"
           }
          ],
          "barpolar": [
           {
            "marker": {
             "line": {
              "color": "#E5ECF6",
              "width": 0.5
             },
             "pattern": {
              "fillmode": "overlay",
              "size": 10,
              "solidity": 0.2
             }
            },
            "type": "barpolar"
           }
          ],
          "carpet": [
           {
            "aaxis": {
             "endlinecolor": "#2a3f5f",
             "gridcolor": "white",
             "linecolor": "white",
             "minorgridcolor": "white",
             "startlinecolor": "#2a3f5f"
            },
            "baxis": {
             "endlinecolor": "#2a3f5f",
             "gridcolor": "white",
             "linecolor": "white",
             "minorgridcolor": "white",
             "startlinecolor": "#2a3f5f"
            },
            "type": "carpet"
           }
          ],
          "choropleth": [
           {
            "colorbar": {
             "outlinewidth": 0,
             "ticks": ""
            },
            "type": "choropleth"
           }
          ],
          "contour": [
           {
            "colorbar": {
             "outlinewidth": 0,
             "ticks": ""
            },
            "colorscale": [
             [
              0,
              "#0d0887"
             ],
             [
              0.1111111111111111,
              "#46039f"
             ],
             [
              0.2222222222222222,
              "#7201a8"
             ],
             [
              0.3333333333333333,
              "#9c179e"
             ],
             [
              0.4444444444444444,
              "#bd3786"
             ],
             [
              0.5555555555555556,
              "#d8576b"
             ],
             [
              0.6666666666666666,
              "#ed7953"
             ],
             [
              0.7777777777777778,
              "#fb9f3a"
             ],
             [
              0.8888888888888888,
              "#fdca26"
             ],
             [
              1,
              "#f0f921"
             ]
            ],
            "type": "contour"
           }
          ],
          "contourcarpet": [
           {
            "colorbar": {
             "outlinewidth": 0,
             "ticks": ""
            },
            "type": "contourcarpet"
           }
          ],
          "heatmap": [
           {
            "colorbar": {
             "outlinewidth": 0,
             "ticks": ""
            },
            "colorscale": [
             [
              0,
              "#0d0887"
             ],
             [
              0.1111111111111111,
              "#46039f"
             ],
             [
              0.2222222222222222,
              "#7201a8"
             ],
             [
              0.3333333333333333,
              "#9c179e"
             ],
             [
              0.4444444444444444,
              "#bd3786"
             ],
             [
              0.5555555555555556,
              "#d8576b"
             ],
             [
              0.6666666666666666,
              "#ed7953"
             ],
             [
              0.7777777777777778,
              "#fb9f3a"
             ],
             [
              0.8888888888888888,
              "#fdca26"
             ],
             [
              1,
              "#f0f921"
             ]
            ],
            "type": "heatmap"
           }
          ],
          "heatmapgl": [
           {
            "colorbar": {
             "outlinewidth": 0,
             "ticks": ""
            },
            "colorscale": [
             [
              0,
              "#0d0887"
             ],
             [
              0.1111111111111111,
              "#46039f"
             ],
             [
              0.2222222222222222,
              "#7201a8"
             ],
             [
              0.3333333333333333,
              "#9c179e"
             ],
             [
              0.4444444444444444,
              "#bd3786"
             ],
             [
              0.5555555555555556,
              "#d8576b"
             ],
             [
              0.6666666666666666,
              "#ed7953"
             ],
             [
              0.7777777777777778,
              "#fb9f3a"
             ],
             [
              0.8888888888888888,
              "#fdca26"
             ],
             [
              1,
              "#f0f921"
             ]
            ],
            "type": "heatmapgl"
           }
          ],
          "histogram": [
           {
            "marker": {
             "pattern": {
              "fillmode": "overlay",
              "size": 10,
              "solidity": 0.2
             }
            },
            "type": "histogram"
           }
          ],
          "histogram2d": [
           {
            "colorbar": {
             "outlinewidth": 0,
             "ticks": ""
            },
            "colorscale": [
             [
              0,
              "#0d0887"
             ],
             [
              0.1111111111111111,
              "#46039f"
             ],
             [
              0.2222222222222222,
              "#7201a8"
             ],
             [
              0.3333333333333333,
              "#9c179e"
             ],
             [
              0.4444444444444444,
              "#bd3786"
             ],
             [
              0.5555555555555556,
              "#d8576b"
             ],
             [
              0.6666666666666666,
              "#ed7953"
             ],
             [
              0.7777777777777778,
              "#fb9f3a"
             ],
             [
              0.8888888888888888,
              "#fdca26"
             ],
             [
              1,
              "#f0f921"
             ]
            ],
            "type": "histogram2d"
           }
          ],
          "histogram2dcontour": [
           {
            "colorbar": {
             "outlinewidth": 0,
             "ticks": ""
            },
            "colorscale": [
             [
              0,
              "#0d0887"
             ],
             [
              0.1111111111111111,
              "#46039f"
             ],
             [
              0.2222222222222222,
              "#7201a8"
             ],
             [
              0.3333333333333333,
              "#9c179e"
             ],
             [
              0.4444444444444444,
              "#bd3786"
             ],
             [
              0.5555555555555556,
              "#d8576b"
             ],
             [
              0.6666666666666666,
              "#ed7953"
             ],
             [
              0.7777777777777778,
              "#fb9f3a"
             ],
             [
              0.8888888888888888,
              "#fdca26"
             ],
             [
              1,
              "#f0f921"
             ]
            ],
            "type": "histogram2dcontour"
           }
          ],
          "mesh3d": [
           {
            "colorbar": {
             "outlinewidth": 0,
             "ticks": ""
            },
            "type": "mesh3d"
           }
          ],
          "parcoords": [
           {
            "line": {
             "colorbar": {
              "outlinewidth": 0,
              "ticks": ""
             }
            },
            "type": "parcoords"
           }
          ],
          "pie": [
           {
            "automargin": true,
            "type": "pie"
           }
          ],
          "scatter": [
           {
            "fillpattern": {
             "fillmode": "overlay",
             "size": 10,
             "solidity": 0.2
            },
            "type": "scatter"
           }
          ],
          "scatter3d": [
           {
            "line": {
             "colorbar": {
              "outlinewidth": 0,
              "ticks": ""
             }
            },
            "marker": {
             "colorbar": {
              "outlinewidth": 0,
              "ticks": ""
             }
            },
            "type": "scatter3d"
           }
          ],
          "scattercarpet": [
           {
            "marker": {
             "colorbar": {
              "outlinewidth": 0,
              "ticks": ""
             }
            },
            "type": "scattercarpet"
           }
          ],
          "scattergeo": [
           {
            "marker": {
             "colorbar": {
              "outlinewidth": 0,
              "ticks": ""
             }
            },
            "type": "scattergeo"
           }
          ],
          "scattergl": [
           {
            "marker": {
             "colorbar": {
              "outlinewidth": 0,
              "ticks": ""
             }
            },
            "type": "scattergl"
           }
          ],
          "scattermapbox": [
           {
            "marker": {
             "colorbar": {
              "outlinewidth": 0,
              "ticks": ""
             }
            },
            "type": "scattermapbox"
           }
          ],
          "scatterpolar": [
           {
            "marker": {
             "colorbar": {
              "outlinewidth": 0,
              "ticks": ""
             }
            },
            "type": "scatterpolar"
           }
          ],
          "scatterpolargl": [
           {
            "marker": {
             "colorbar": {
              "outlinewidth": 0,
              "ticks": ""
             }
            },
            "type": "scatterpolargl"
           }
          ],
          "scatterternary": [
           {
            "marker": {
             "colorbar": {
              "outlinewidth": 0,
              "ticks": ""
             }
            },
            "type": "scatterternary"
           }
          ],
          "surface": [
           {
            "colorbar": {
             "outlinewidth": 0,
             "ticks": ""
            },
            "colorscale": [
             [
              0,
              "#0d0887"
             ],
             [
              0.1111111111111111,
              "#46039f"
             ],
             [
              0.2222222222222222,
              "#7201a8"
             ],
             [
              0.3333333333333333,
              "#9c179e"
             ],
             [
              0.4444444444444444,
              "#bd3786"
             ],
             [
              0.5555555555555556,
              "#d8576b"
             ],
             [
              0.6666666666666666,
              "#ed7953"
             ],
             [
              0.7777777777777778,
              "#fb9f3a"
             ],
             [
              0.8888888888888888,
              "#fdca26"
             ],
             [
              1,
              "#f0f921"
             ]
            ],
            "type": "surface"
           }
          ],
          "table": [
           {
            "cells": {
             "fill": {
              "color": "#EBF0F8"
             },
             "line": {
              "color": "white"
             }
            },
            "header": {
             "fill": {
              "color": "#C8D4E3"
             },
             "line": {
              "color": "white"
             }
            },
            "type": "table"
           }
          ]
         },
         "layout": {
          "annotationdefaults": {
           "arrowcolor": "#2a3f5f",
           "arrowhead": 0,
           "arrowwidth": 1
          },
          "autotypenumbers": "strict",
          "coloraxis": {
           "colorbar": {
            "outlinewidth": 0,
            "ticks": ""
           }
          },
          "colorscale": {
           "diverging": [
            [
             0,
             "#8e0152"
            ],
            [
             0.1,
             "#c51b7d"
            ],
            [
             0.2,
             "#de77ae"
            ],
            [
             0.3,
             "#f1b6da"
            ],
            [
             0.4,
             "#fde0ef"
            ],
            [
             0.5,
             "#f7f7f7"
            ],
            [
             0.6,
             "#e6f5d0"
            ],
            [
             0.7,
             "#b8e186"
            ],
            [
             0.8,
             "#7fbc41"
            ],
            [
             0.9,
             "#4d9221"
            ],
            [
             1,
             "#276419"
            ]
           ],
           "sequential": [
            [
             0,
             "#0d0887"
            ],
            [
             0.1111111111111111,
             "#46039f"
            ],
            [
             0.2222222222222222,
             "#7201a8"
            ],
            [
             0.3333333333333333,
             "#9c179e"
            ],
            [
             0.4444444444444444,
             "#bd3786"
            ],
            [
             0.5555555555555556,
             "#d8576b"
            ],
            [
             0.6666666666666666,
             "#ed7953"
            ],
            [
             0.7777777777777778,
             "#fb9f3a"
            ],
            [
             0.8888888888888888,
             "#fdca26"
            ],
            [
             1,
             "#f0f921"
            ]
           ],
           "sequentialminus": [
            [
             0,
             "#0d0887"
            ],
            [
             0.1111111111111111,
             "#46039f"
            ],
            [
             0.2222222222222222,
             "#7201a8"
            ],
            [
             0.3333333333333333,
             "#9c179e"
            ],
            [
             0.4444444444444444,
             "#bd3786"
            ],
            [
             0.5555555555555556,
             "#d8576b"
            ],
            [
             0.6666666666666666,
             "#ed7953"
            ],
            [
             0.7777777777777778,
             "#fb9f3a"
            ],
            [
             0.8888888888888888,
             "#fdca26"
            ],
            [
             1,
             "#f0f921"
            ]
           ]
          },
          "colorway": [
           "#636efa",
           "#EF553B",
           "#00cc96",
           "#ab63fa",
           "#FFA15A",
           "#19d3f3",
           "#FF6692",
           "#B6E880",
           "#FF97FF",
           "#FECB52"
          ],
          "font": {
           "color": "#2a3f5f"
          },
          "geo": {
           "bgcolor": "white",
           "lakecolor": "white",
           "landcolor": "#E5ECF6",
           "showlakes": true,
           "showland": true,
           "subunitcolor": "white"
          },
          "hoverlabel": {
           "align": "left"
          },
          "hovermode": "closest",
          "mapbox": {
           "style": "light"
          },
          "paper_bgcolor": "white",
          "plot_bgcolor": "#E5ECF6",
          "polar": {
           "angularaxis": {
            "gridcolor": "white",
            "linecolor": "white",
            "ticks": ""
           },
           "bgcolor": "#E5ECF6",
           "radialaxis": {
            "gridcolor": "white",
            "linecolor": "white",
            "ticks": ""
           }
          },
          "scene": {
           "xaxis": {
            "backgroundcolor": "#E5ECF6",
            "gridcolor": "white",
            "gridwidth": 2,
            "linecolor": "white",
            "showbackground": true,
            "ticks": "",
            "zerolinecolor": "white"
           },
           "yaxis": {
            "backgroundcolor": "#E5ECF6",
            "gridcolor": "white",
            "gridwidth": 2,
            "linecolor": "white",
            "showbackground": true,
            "ticks": "",
            "zerolinecolor": "white"
           },
           "zaxis": {
            "backgroundcolor": "#E5ECF6",
            "gridcolor": "white",
            "gridwidth": 2,
            "linecolor": "white",
            "showbackground": true,
            "ticks": "",
            "zerolinecolor": "white"
           }
          },
          "shapedefaults": {
           "line": {
            "color": "#2a3f5f"
           }
          },
          "ternary": {
           "aaxis": {
            "gridcolor": "white",
            "linecolor": "white",
            "ticks": ""
           },
           "baxis": {
            "gridcolor": "white",
            "linecolor": "white",
            "ticks": ""
           },
           "bgcolor": "#E5ECF6",
           "caxis": {
            "gridcolor": "white",
            "linecolor": "white",
            "ticks": ""
           }
          },
          "title": {
           "x": 0.05
          },
          "xaxis": {
           "automargin": true,
           "gridcolor": "white",
           "linecolor": "white",
           "ticks": "",
           "title": {
            "standoff": 15
           },
           "zerolinecolor": "white",
           "zerolinewidth": 2
          },
          "yaxis": {
           "automargin": true,
           "gridcolor": "white",
           "linecolor": "white",
           "ticks": "",
           "title": {
            "standoff": 15
           },
           "zerolinecolor": "white",
           "zerolinewidth": 2
          }
         }
        },
        "title": {
         "text": "Resistance [komhs] over time"
        },
        "xaxis": {
         "anchor": "y",
         "domain": [
          0,
          1
         ],
         "title": {
          "text": "x"
         }
        },
        "yaxis": {
         "anchor": "x",
         "domain": [
          0,
          1
         ],
         "title": {
          "text": "y"
         }
        }
       }
      },
      "text/html": [
       "<div>                            <div id=\"04178a70-57d1-4a68-9b20-16545fcdfea2\" class=\"plotly-graph-div\" style=\"height:525px; width:100%;\"></div>            <script type=\"text/javascript\">                require([\"plotly\"], function(Plotly) {                    window.PLOTLYENV=window.PLOTLYENV || {};                                    if (document.getElementById(\"04178a70-57d1-4a68-9b20-16545fcdfea2\")) {                    Plotly.newPlot(                        \"04178a70-57d1-4a68-9b20-16545fcdfea2\",                        [{\"hovertemplate\":\"x=%{x}<br>y=%{y}<extra></extra>\",\"legendgroup\":\"\",\"line\":{\"color\":\"#636efa\",\"dash\":\"solid\"},\"marker\":{\"symbol\":\"circle\"},\"mode\":\"lines\",\"name\":\"\",\"orientation\":\"v\",\"showlegend\":false,\"x\":[\"2023/06/01, 16:52:53\",\"2023/06/01, 16:52:54\",\"2023/06/01, 16:52:55\",\"2023/06/01, 16:52:56\",\"2023/06/01, 16:52:57\",\"2023/06/01, 16:52:58\",\"2023/06/01, 16:52:59\",\"2023/06/01, 16:53:00\",\"2023/06/01, 16:53:01\",\"2023/06/01, 16:53:02\",\"2023/06/01, 16:53:03\",\"2023/06/01, 16:53:04\",\"2023/06/01, 16:53:05\",\"2023/06/01, 16:53:06\",\"2023/06/01, 16:53:07\",\"2023/06/01, 16:53:08\",\"2023/06/01, 16:53:09\",\"2023/06/01, 16:53:10\",\"2023/06/01, 16:53:11\",\"2023/06/01, 16:53:12\",\"2023/06/01, 16:53:13\",\"2023/06/01, 16:53:14\",\"2023/06/01, 16:53:15\",\"2023/06/01, 16:53:16\",\"2023/06/01, 16:53:17\",\"2023/06/01, 16:53:18\",\"2023/06/01, 16:53:19\",\"2023/06/01, 16:53:20\",\"2023/06/01, 16:53:21\",\"2023/06/01, 16:53:22\",\"2023/06/01, 16:53:23\",\"2023/06/01, 16:53:24\",\"2023/06/01, 16:53:25\",\"2023/06/01, 16:53:26\",\"2023/06/01, 16:53:27\",\"2023/06/01, 16:53:28\",\"2023/06/01, 16:53:29\",\"2023/06/01, 16:53:30\",\"2023/06/01, 16:53:31\",\"2023/06/01, 16:53:32\",\"2023/06/01, 16:53:33\",\"2023/06/01, 16:53:34\",\"2023/06/01, 16:53:35\",\"2023/06/01, 16:53:36\",\"2023/06/01, 16:53:37\",\"2023/06/01, 16:53:38\",\"2023/06/01, 16:53:39\",\"2023/06/01, 16:53:40\",\"2023/06/01, 16:53:41\",\"2023/06/01, 16:53:42\",\"2023/06/01, 16:53:43\",\"2023/06/01, 16:53:44\",\"2023/06/01, 16:53:45\",\"2023/06/01, 16:53:46\",\"2023/06/01, 16:53:47\",\"2023/06/01, 16:53:48\",\"2023/06/01, 16:53:49\",\"2023/06/01, 16:53:50\",\"2023/06/01, 16:53:51\",\"2023/06/01, 16:53:52\",\"2023/06/01, 16:53:53\",\"2023/06/01, 16:53:54\",\"2023/06/01, 16:53:55\",\"2023/06/01, 16:53:56\",\"2023/06/01, 16:53:57\",\"2023/06/01, 16:53:58\",\"2023/06/01, 16:53:59\",\"2023/06/01, 16:54:00\",\"2023/06/01, 16:54:01\",\"2023/06/01, 16:54:02\",\"2023/06/01, 16:54:03\",\"2023/06/01, 16:54:04\",\"2023/06/01, 16:54:05\",\"2023/06/01, 16:54:06\",\"2023/06/01, 16:54:07\",\"2023/06/01, 16:54:08\",\"2023/06/01, 16:54:09\",\"2023/06/01, 16:54:10\",\"2023/06/01, 16:54:11\",\"2023/06/01, 16:54:12\",\"2023/06/01, 16:54:13\",\"2023/06/01, 16:54:14\",\"2023/06/01, 16:54:15\",\"2023/06/01, 16:54:16\",\"2023/06/01, 16:54:17\",\"2023/06/01, 16:54:18\",\"2023/06/01, 16:54:19\",\"2023/06/01, 16:54:20\",\"2023/06/01, 16:54:21\",\"2023/06/01, 16:54:22\",\"2023/06/01, 16:54:23\",\"2023/06/01, 16:54:24\",\"2023/06/01, 16:54:25\",\"2023/06/01, 16:54:26\",\"2023/06/01, 16:54:27\",\"2023/06/01, 16:54:28\",\"2023/06/01, 16:54:29\",\"2023/06/01, 16:54:30\",\"2023/06/01, 16:54:31\",\"2023/06/01, 16:54:32\"],\"xaxis\":\"x\",\"y\":[20744.843904048685,20736.878012198522,20737.472475584913,20735.134254677232,20751.145269991044,20740.80151337457,20742.50565882937,20740.76188260682,20741.197835078023,20727.406144628385,20749.559992527866,20754.910207888388,20760.418939774474,20743.615333417274,20739.2558853804,20746.310254611286,20747.301004168738,20741.71303318866,20761.37009596669,20740.4447990623,20739.65220240854,20759.269656860324,20731.329648609622,20764.342440950524,20757.644771070904,20731.36928498775,20738.344357150745,20768.741515079837,20758.120329063164,20734.97571384003,20738.859583313264,20753.52312540673,20740.960057016957,20754.672417671507,20736.323190800635,20748.2125473594,20749.87704708544,20750.075221495576,20744.368313329225,20740.246686366307,20736.204303172697,20740.841126376126,20751.02637675273,20741.63376978303,20751.224517500603,20749.52037298087,20738.06697076344,20762.202337414146,20735.213490966038,20742.109336190853,20732.043018325207,20743.853103997837,20738.582165133823,20739.49367466222,20763.74798223945,20752.413461104516,20743.496433633518,20741.23745836527,20738.97849431778,20724.1564067118,20738.978473746396,20747.776580862253,20729.070667730997,20745.160941775124,20737.432878479423,20749.36185365012,20736.560960446135,20740.8411170255,20754.196848458494,20744.01163922466,20745.081656863054,20746.98397111761,20743.258629390693,20725.30573544403,20761.924944481398,20757.406980854023,20745.121294176242,20764.619850714404,20762.836451204606,20747.65770258494,20758.754450334123,20750.114847588015,20750.19409790276,20734.85681873159,20735.768343220992,20728.000657573106,20747.063230782984,20742.030089616357,20748.450333836026,20738.146200506802,20742.94157109287,20759.58671796334,20730.97298385568,20740.563738118693,20735.72870216755,20727.406161459516,20739.612583796603,20737.74989843967,20741.713022902968,20743.9323589879],\"yaxis\":\"y\",\"type\":\"scatter\"}],                        {\"template\":{\"data\":{\"histogram2dcontour\":[{\"type\":\"histogram2dcontour\",\"colorbar\":{\"outlinewidth\":0,\"ticks\":\"\"},\"colorscale\":[[0.0,\"#0d0887\"],[0.1111111111111111,\"#46039f\"],[0.2222222222222222,\"#7201a8\"],[0.3333333333333333,\"#9c179e\"],[0.4444444444444444,\"#bd3786\"],[0.5555555555555556,\"#d8576b\"],[0.6666666666666666,\"#ed7953\"],[0.7777777777777778,\"#fb9f3a\"],[0.8888888888888888,\"#fdca26\"],[1.0,\"#f0f921\"]]}],\"choropleth\":[{\"type\":\"choropleth\",\"colorbar\":{\"outlinewidth\":0,\"ticks\":\"\"}}],\"histogram2d\":[{\"type\":\"histogram2d\",\"colorbar\":{\"outlinewidth\":0,\"ticks\":\"\"},\"colorscale\":[[0.0,\"#0d0887\"],[0.1111111111111111,\"#46039f\"],[0.2222222222222222,\"#7201a8\"],[0.3333333333333333,\"#9c179e\"],[0.4444444444444444,\"#bd3786\"],[0.5555555555555556,\"#d8576b\"],[0.6666666666666666,\"#ed7953\"],[0.7777777777777778,\"#fb9f3a\"],[0.8888888888888888,\"#fdca26\"],[1.0,\"#f0f921\"]]}],\"heatmap\":[{\"type\":\"heatmap\",\"colorbar\":{\"outlinewidth\":0,\"ticks\":\"\"},\"colorscale\":[[0.0,\"#0d0887\"],[0.1111111111111111,\"#46039f\"],[0.2222222222222222,\"#7201a8\"],[0.3333333333333333,\"#9c179e\"],[0.4444444444444444,\"#bd3786\"],[0.5555555555555556,\"#d8576b\"],[0.6666666666666666,\"#ed7953\"],[0.7777777777777778,\"#fb9f3a\"],[0.8888888888888888,\"#fdca26\"],[1.0,\"#f0f921\"]]}],\"heatmapgl\":[{\"type\":\"heatmapgl\",\"colorbar\":{\"outlinewidth\":0,\"ticks\":\"\"},\"colorscale\":[[0.0,\"#0d0887\"],[0.1111111111111111,\"#46039f\"],[0.2222222222222222,\"#7201a8\"],[0.3333333333333333,\"#9c179e\"],[0.4444444444444444,\"#bd3786\"],[0.5555555555555556,\"#d8576b\"],[0.6666666666666666,\"#ed7953\"],[0.7777777777777778,\"#fb9f3a\"],[0.8888888888888888,\"#fdca26\"],[1.0,\"#f0f921\"]]}],\"contourcarpet\":[{\"type\":\"contourcarpet\",\"colorbar\":{\"outlinewidth\":0,\"ticks\":\"\"}}],\"contour\":[{\"type\":\"contour\",\"colorbar\":{\"outlinewidth\":0,\"ticks\":\"\"},\"colorscale\":[[0.0,\"#0d0887\"],[0.1111111111111111,\"#46039f\"],[0.2222222222222222,\"#7201a8\"],[0.3333333333333333,\"#9c179e\"],[0.4444444444444444,\"#bd3786\"],[0.5555555555555556,\"#d8576b\"],[0.6666666666666666,\"#ed7953\"],[0.7777777777777778,\"#fb9f3a\"],[0.8888888888888888,\"#fdca26\"],[1.0,\"#f0f921\"]]}],\"surface\":[{\"type\":\"surface\",\"colorbar\":{\"outlinewidth\":0,\"ticks\":\"\"},\"colorscale\":[[0.0,\"#0d0887\"],[0.1111111111111111,\"#46039f\"],[0.2222222222222222,\"#7201a8\"],[0.3333333333333333,\"#9c179e\"],[0.4444444444444444,\"#bd3786\"],[0.5555555555555556,\"#d8576b\"],[0.6666666666666666,\"#ed7953\"],[0.7777777777777778,\"#fb9f3a\"],[0.8888888888888888,\"#fdca26\"],[1.0,\"#f0f921\"]]}],\"mesh3d\":[{\"type\":\"mesh3d\",\"colorbar\":{\"outlinewidth\":0,\"ticks\":\"\"}}],\"scatter\":[{\"fillpattern\":{\"fillmode\":\"overlay\",\"size\":10,\"solidity\":0.2},\"type\":\"scatter\"}],\"parcoords\":[{\"type\":\"parcoords\",\"line\":{\"colorbar\":{\"outlinewidth\":0,\"ticks\":\"\"}}}],\"scatterpolargl\":[{\"type\":\"scatterpolargl\",\"marker\":{\"colorbar\":{\"outlinewidth\":0,\"ticks\":\"\"}}}],\"bar\":[{\"error_x\":{\"color\":\"#2a3f5f\"},\"error_y\":{\"color\":\"#2a3f5f\"},\"marker\":{\"line\":{\"color\":\"#E5ECF6\",\"width\":0.5},\"pattern\":{\"fillmode\":\"overlay\",\"size\":10,\"solidity\":0.2}},\"type\":\"bar\"}],\"scattergeo\":[{\"type\":\"scattergeo\",\"marker\":{\"colorbar\":{\"outlinewidth\":0,\"ticks\":\"\"}}}],\"scatterpolar\":[{\"type\":\"scatterpolar\",\"marker\":{\"colorbar\":{\"outlinewidth\":0,\"ticks\":\"\"}}}],\"histogram\":[{\"marker\":{\"pattern\":{\"fillmode\":\"overlay\",\"size\":10,\"solidity\":0.2}},\"type\":\"histogram\"}],\"scattergl\":[{\"type\":\"scattergl\",\"marker\":{\"colorbar\":{\"outlinewidth\":0,\"ticks\":\"\"}}}],\"scatter3d\":[{\"type\":\"scatter3d\",\"line\":{\"colorbar\":{\"outlinewidth\":0,\"ticks\":\"\"}},\"marker\":{\"colorbar\":{\"outlinewidth\":0,\"ticks\":\"\"}}}],\"scattermapbox\":[{\"type\":\"scattermapbox\",\"marker\":{\"colorbar\":{\"outlinewidth\":0,\"ticks\":\"\"}}}],\"scatterternary\":[{\"type\":\"scatterternary\",\"marker\":{\"colorbar\":{\"outlinewidth\":0,\"ticks\":\"\"}}}],\"scattercarpet\":[{\"type\":\"scattercarpet\",\"marker\":{\"colorbar\":{\"outlinewidth\":0,\"ticks\":\"\"}}}],\"carpet\":[{\"aaxis\":{\"endlinecolor\":\"#2a3f5f\",\"gridcolor\":\"white\",\"linecolor\":\"white\",\"minorgridcolor\":\"white\",\"startlinecolor\":\"#2a3f5f\"},\"baxis\":{\"endlinecolor\":\"#2a3f5f\",\"gridcolor\":\"white\",\"linecolor\":\"white\",\"minorgridcolor\":\"white\",\"startlinecolor\":\"#2a3f5f\"},\"type\":\"carpet\"}],\"table\":[{\"cells\":{\"fill\":{\"color\":\"#EBF0F8\"},\"line\":{\"color\":\"white\"}},\"header\":{\"fill\":{\"color\":\"#C8D4E3\"},\"line\":{\"color\":\"white\"}},\"type\":\"table\"}],\"barpolar\":[{\"marker\":{\"line\":{\"color\":\"#E5ECF6\",\"width\":0.5},\"pattern\":{\"fillmode\":\"overlay\",\"size\":10,\"solidity\":0.2}},\"type\":\"barpolar\"}],\"pie\":[{\"automargin\":true,\"type\":\"pie\"}]},\"layout\":{\"autotypenumbers\":\"strict\",\"colorway\":[\"#636efa\",\"#EF553B\",\"#00cc96\",\"#ab63fa\",\"#FFA15A\",\"#19d3f3\",\"#FF6692\",\"#B6E880\",\"#FF97FF\",\"#FECB52\"],\"font\":{\"color\":\"#2a3f5f\"},\"hovermode\":\"closest\",\"hoverlabel\":{\"align\":\"left\"},\"paper_bgcolor\":\"white\",\"plot_bgcolor\":\"#E5ECF6\",\"polar\":{\"bgcolor\":\"#E5ECF6\",\"angularaxis\":{\"gridcolor\":\"white\",\"linecolor\":\"white\",\"ticks\":\"\"},\"radialaxis\":{\"gridcolor\":\"white\",\"linecolor\":\"white\",\"ticks\":\"\"}},\"ternary\":{\"bgcolor\":\"#E5ECF6\",\"aaxis\":{\"gridcolor\":\"white\",\"linecolor\":\"white\",\"ticks\":\"\"},\"baxis\":{\"gridcolor\":\"white\",\"linecolor\":\"white\",\"ticks\":\"\"},\"caxis\":{\"gridcolor\":\"white\",\"linecolor\":\"white\",\"ticks\":\"\"}},\"coloraxis\":{\"colorbar\":{\"outlinewidth\":0,\"ticks\":\"\"}},\"colorscale\":{\"sequential\":[[0.0,\"#0d0887\"],[0.1111111111111111,\"#46039f\"],[0.2222222222222222,\"#7201a8\"],[0.3333333333333333,\"#9c179e\"],[0.4444444444444444,\"#bd3786\"],[0.5555555555555556,\"#d8576b\"],[0.6666666666666666,\"#ed7953\"],[0.7777777777777778,\"#fb9f3a\"],[0.8888888888888888,\"#fdca26\"],[1.0,\"#f0f921\"]],\"sequentialminus\":[[0.0,\"#0d0887\"],[0.1111111111111111,\"#46039f\"],[0.2222222222222222,\"#7201a8\"],[0.3333333333333333,\"#9c179e\"],[0.4444444444444444,\"#bd3786\"],[0.5555555555555556,\"#d8576b\"],[0.6666666666666666,\"#ed7953\"],[0.7777777777777778,\"#fb9f3a\"],[0.8888888888888888,\"#fdca26\"],[1.0,\"#f0f921\"]],\"diverging\":[[0,\"#8e0152\"],[0.1,\"#c51b7d\"],[0.2,\"#de77ae\"],[0.3,\"#f1b6da\"],[0.4,\"#fde0ef\"],[0.5,\"#f7f7f7\"],[0.6,\"#e6f5d0\"],[0.7,\"#b8e186\"],[0.8,\"#7fbc41\"],[0.9,\"#4d9221\"],[1,\"#276419\"]]},\"xaxis\":{\"gridcolor\":\"white\",\"linecolor\":\"white\",\"ticks\":\"\",\"title\":{\"standoff\":15},\"zerolinecolor\":\"white\",\"automargin\":true,\"zerolinewidth\":2},\"yaxis\":{\"gridcolor\":\"white\",\"linecolor\":\"white\",\"ticks\":\"\",\"title\":{\"standoff\":15},\"zerolinecolor\":\"white\",\"automargin\":true,\"zerolinewidth\":2},\"scene\":{\"xaxis\":{\"backgroundcolor\":\"#E5ECF6\",\"gridcolor\":\"white\",\"linecolor\":\"white\",\"showbackground\":true,\"ticks\":\"\",\"zerolinecolor\":\"white\",\"gridwidth\":2},\"yaxis\":{\"backgroundcolor\":\"#E5ECF6\",\"gridcolor\":\"white\",\"linecolor\":\"white\",\"showbackground\":true,\"ticks\":\"\",\"zerolinecolor\":\"white\",\"gridwidth\":2},\"zaxis\":{\"backgroundcolor\":\"#E5ECF6\",\"gridcolor\":\"white\",\"linecolor\":\"white\",\"showbackground\":true,\"ticks\":\"\",\"zerolinecolor\":\"white\",\"gridwidth\":2}},\"shapedefaults\":{\"line\":{\"color\":\"#2a3f5f\"}},\"annotationdefaults\":{\"arrowcolor\":\"#2a3f5f\",\"arrowhead\":0,\"arrowwidth\":1},\"geo\":{\"bgcolor\":\"white\",\"landcolor\":\"#E5ECF6\",\"subunitcolor\":\"white\",\"showland\":true,\"showlakes\":true,\"lakecolor\":\"white\"},\"title\":{\"x\":0.05},\"mapbox\":{\"style\":\"light\"}}},\"xaxis\":{\"anchor\":\"y\",\"domain\":[0.0,1.0],\"title\":{\"text\":\"x\"}},\"yaxis\":{\"anchor\":\"x\",\"domain\":[0.0,1.0],\"title\":{\"text\":\"y\"}},\"legend\":{\"tracegroupgap\":0},\"title\":{\"text\":\"Resistance [komhs] over time\"}},                        {\"responsive\": true}                    ).then(function(){\n",
       "                            \n",
       "var gd = document.getElementById('04178a70-57d1-4a68-9b20-16545fcdfea2');\n",
       "var x = new MutationObserver(function (mutations, observer) {{\n",
       "        var display = window.getComputedStyle(gd).display;\n",
       "        if (!display || display === 'none') {{\n",
       "            console.log([gd, 'removed!']);\n",
       "            Plotly.purge(gd);\n",
       "            observer.disconnect();\n",
       "        }}\n",
       "}});\n",
       "\n",
       "// Listen for the removal of the full notebook cells\n",
       "var notebookContainer = gd.closest('#notebook-container');\n",
       "if (notebookContainer) {{\n",
       "    x.observe(notebookContainer, {childList: true});\n",
       "}}\n",
       "\n",
       "// Listen for the clearing of the current output cell\n",
       "var outputEl = gd.closest('.output');\n",
       "if (outputEl) {{\n",
       "    x.observe(outputEl, {childList: true});\n",
       "}}\n",
       "\n",
       "                        })                };                });            </script>        </div>"
      ]
     },
     "metadata": {},
     "output_type": "display_data"
    }
   ],
   "source": [
    "fig_R = px.line(x = averaged_dictionary['AIN56']['Time'], y = averaged_dictionary['AIN56']['R [komhs]'], title='Resistance [komhs] over time')\n",
    "fig_R.show()"
   ]
  },
  {
   "cell_type": "code",
   "execution_count": 66,
   "id": "63da9b01",
   "metadata": {},
   "outputs": [
    {
     "name": "stdout",
     "output_type": "stream",
     "text": [
      "15.768481220459686 omhs RMS\n"
     ]
    }
   ],
   "source": [
    "print(str(((20.7687 - 20.7241) / (2*np.sqrt(2)))*1000) + ' omhs RMS')"
   ]
  },
  {
   "cell_type": "code",
   "execution_count": 58,
   "id": "0e5814aa",
   "metadata": {},
   "outputs": [
    {
     "data": {
      "application/vnd.plotly.v1+json": {
       "config": {
        "plotlyServerURL": "https://plot.ly"
       },
       "data": [
        {
         "hovertemplate": "x=%{x}<br>y=%{y}<extra></extra>",
         "legendgroup": "",
         "line": {
          "color": "#636efa",
          "dash": "solid"
         },
         "marker": {
          "symbol": "circle"
         },
         "mode": "lines",
         "name": "",
         "orientation": "v",
         "showlegend": false,
         "type": "scatter",
         "x": [
          "2023/06/01, 16:52:53",
          "2023/06/01, 16:52:54",
          "2023/06/01, 16:52:55",
          "2023/06/01, 16:52:56",
          "2023/06/01, 16:52:57",
          "2023/06/01, 16:52:58",
          "2023/06/01, 16:52:59",
          "2023/06/01, 16:53:00",
          "2023/06/01, 16:53:01",
          "2023/06/01, 16:53:02",
          "2023/06/01, 16:53:03",
          "2023/06/01, 16:53:04",
          "2023/06/01, 16:53:05",
          "2023/06/01, 16:53:06",
          "2023/06/01, 16:53:07",
          "2023/06/01, 16:53:08",
          "2023/06/01, 16:53:09",
          "2023/06/01, 16:53:10",
          "2023/06/01, 16:53:11",
          "2023/06/01, 16:53:12",
          "2023/06/01, 16:53:13",
          "2023/06/01, 16:53:14",
          "2023/06/01, 16:53:15",
          "2023/06/01, 16:53:16",
          "2023/06/01, 16:53:17",
          "2023/06/01, 16:53:18",
          "2023/06/01, 16:53:19",
          "2023/06/01, 16:53:20",
          "2023/06/01, 16:53:21",
          "2023/06/01, 16:53:22",
          "2023/06/01, 16:53:23",
          "2023/06/01, 16:53:24",
          "2023/06/01, 16:53:25",
          "2023/06/01, 16:53:26",
          "2023/06/01, 16:53:27",
          "2023/06/01, 16:53:28",
          "2023/06/01, 16:53:29",
          "2023/06/01, 16:53:30",
          "2023/06/01, 16:53:31",
          "2023/06/01, 16:53:32",
          "2023/06/01, 16:53:33",
          "2023/06/01, 16:53:34",
          "2023/06/01, 16:53:35",
          "2023/06/01, 16:53:36",
          "2023/06/01, 16:53:37",
          "2023/06/01, 16:53:38",
          "2023/06/01, 16:53:39",
          "2023/06/01, 16:53:40",
          "2023/06/01, 16:53:41",
          "2023/06/01, 16:53:42",
          "2023/06/01, 16:53:43",
          "2023/06/01, 16:53:44",
          "2023/06/01, 16:53:45",
          "2023/06/01, 16:53:46",
          "2023/06/01, 16:53:47",
          "2023/06/01, 16:53:48",
          "2023/06/01, 16:53:49",
          "2023/06/01, 16:53:50",
          "2023/06/01, 16:53:51",
          "2023/06/01, 16:53:52",
          "2023/06/01, 16:53:53",
          "2023/06/01, 16:53:54",
          "2023/06/01, 16:53:55",
          "2023/06/01, 16:53:56",
          "2023/06/01, 16:53:57",
          "2023/06/01, 16:53:58",
          "2023/06/01, 16:53:59",
          "2023/06/01, 16:54:00",
          "2023/06/01, 16:54:01",
          "2023/06/01, 16:54:02",
          "2023/06/01, 16:54:03",
          "2023/06/01, 16:54:04",
          "2023/06/01, 16:54:05",
          "2023/06/01, 16:54:06",
          "2023/06/01, 16:54:07",
          "2023/06/01, 16:54:08",
          "2023/06/01, 16:54:09",
          "2023/06/01, 16:54:10",
          "2023/06/01, 16:54:11",
          "2023/06/01, 16:54:12",
          "2023/06/01, 16:54:13",
          "2023/06/01, 16:54:14",
          "2023/06/01, 16:54:15",
          "2023/06/01, 16:54:16",
          "2023/06/01, 16:54:17",
          "2023/06/01, 16:54:18",
          "2023/06/01, 16:54:19",
          "2023/06/01, 16:54:20",
          "2023/06/01, 16:54:21",
          "2023/06/01, 16:54:22",
          "2023/06/01, 16:54:23",
          "2023/06/01, 16:54:24",
          "2023/06/01, 16:54:25",
          "2023/06/01, 16:54:26",
          "2023/06/01, 16:54:27",
          "2023/06/01, 16:54:28",
          "2023/06/01, 16:54:29",
          "2023/06/01, 16:54:30",
          "2023/06/01, 16:54:31",
          "2023/06/01, 16:54:32"
         ],
         "xaxis": "x",
         "y": [
          95.30937426865668,
          95.33416047588622,
          95.33252219927849,
          95.34090312200277,
          95.28948181526762,
          95.32194149271362,
          95.31617391339343,
          95.32348157610197,
          95.32239046884717,
          95.36661360432753,
          95.29217084950247,
          95.27370858274014,
          95.25623346351604,
          95.31304266792402,
          95.3267893648169,
          95.30243117532547,
          95.29866850973613,
          95.31846375525656,
          95.25347920018554,
          95.32228224410972,
          95.3263628472208,
          95.26082429291358,
          95.3516935496525,
          95.24354241660367,
          95.26555460567559,
          95.35234066281541,
          95.3302158119599,
          95.22838257065625,
          95.26345289977418,
          95.34262205953485,
          95.32901401469039,
          95.27962018698555,
          95.32138391701183,
          95.27509977351887,
          95.33694916121978,
          95.2981699839087,
          95.2913105204336,
          95.28988960807908,
          95.30868664170039,
          95.3226473566502,
          95.33744956315066,
          95.32209407142072,
          95.28904271415182,
          95.31827007048014,
          95.28675176671834,
          95.29135378964345,
          95.33147906311791,
          95.24743246355892,
          95.3401391239688,
          95.31619840515174,
          95.35120565542275,
          95.31196499376445,
          95.3287721536153,
          95.32643101495398,
          95.245530962177,
          95.28381397751757,
          95.3121825339768,
          95.3210200776728,
          95.32833302743443,
          95.37605694415782,
          95.32756324831404,
          95.2982693260075,
          95.36042436075459,
          95.3064373852062,
          95.33337985454357,
          95.29505090951399,
          95.33490351933837,
          95.31984299818421,
          95.27783079602347,
          95.31133120783652,
          95.30614563057807,
          95.30141154365974,
          95.31470110507136,
          95.37472714036117,
          95.25170048734319,
          95.26516598767921,
          95.30766749792205,
          95.24218576210886,
          95.24872888853776,
          95.2982570426293,
          95.26112698641529,
          95.290538050438,
          95.28930741611487,
          95.34147691069192,
          95.33767216842705,
          95.36486445628269,
          95.30003634043791,
          95.31767923618224,
          95.29699519075152,
          95.32901142042232,
          95.31468550185892,
          95.25933380723018,
          95.35461792479809,
          95.32321150517748,
          95.337508513679,
          95.36482783739172,
          95.3253241418493,
          95.33251384103055,
          95.3178683365164,
          95.3102864456026
         ],
         "yaxis": "y"
        }
       ],
       "layout": {
        "legend": {
         "tracegroupgap": 0
        },
        "template": {
         "data": {
          "bar": [
           {
            "error_x": {
             "color": "#2a3f5f"
            },
            "error_y": {
             "color": "#2a3f5f"
            },
            "marker": {
             "line": {
              "color": "#E5ECF6",
              "width": 0.5
             },
             "pattern": {
              "fillmode": "overlay",
              "size": 10,
              "solidity": 0.2
             }
            },
            "type": "bar"
           }
          ],
          "barpolar": [
           {
            "marker": {
             "line": {
              "color": "#E5ECF6",
              "width": 0.5
             },
             "pattern": {
              "fillmode": "overlay",
              "size": 10,
              "solidity": 0.2
             }
            },
            "type": "barpolar"
           }
          ],
          "carpet": [
           {
            "aaxis": {
             "endlinecolor": "#2a3f5f",
             "gridcolor": "white",
             "linecolor": "white",
             "minorgridcolor": "white",
             "startlinecolor": "#2a3f5f"
            },
            "baxis": {
             "endlinecolor": "#2a3f5f",
             "gridcolor": "white",
             "linecolor": "white",
             "minorgridcolor": "white",
             "startlinecolor": "#2a3f5f"
            },
            "type": "carpet"
           }
          ],
          "choropleth": [
           {
            "colorbar": {
             "outlinewidth": 0,
             "ticks": ""
            },
            "type": "choropleth"
           }
          ],
          "contour": [
           {
            "colorbar": {
             "outlinewidth": 0,
             "ticks": ""
            },
            "colorscale": [
             [
              0,
              "#0d0887"
             ],
             [
              0.1111111111111111,
              "#46039f"
             ],
             [
              0.2222222222222222,
              "#7201a8"
             ],
             [
              0.3333333333333333,
              "#9c179e"
             ],
             [
              0.4444444444444444,
              "#bd3786"
             ],
             [
              0.5555555555555556,
              "#d8576b"
             ],
             [
              0.6666666666666666,
              "#ed7953"
             ],
             [
              0.7777777777777778,
              "#fb9f3a"
             ],
             [
              0.8888888888888888,
              "#fdca26"
             ],
             [
              1,
              "#f0f921"
             ]
            ],
            "type": "contour"
           }
          ],
          "contourcarpet": [
           {
            "colorbar": {
             "outlinewidth": 0,
             "ticks": ""
            },
            "type": "contourcarpet"
           }
          ],
          "heatmap": [
           {
            "colorbar": {
             "outlinewidth": 0,
             "ticks": ""
            },
            "colorscale": [
             [
              0,
              "#0d0887"
             ],
             [
              0.1111111111111111,
              "#46039f"
             ],
             [
              0.2222222222222222,
              "#7201a8"
             ],
             [
              0.3333333333333333,
              "#9c179e"
             ],
             [
              0.4444444444444444,
              "#bd3786"
             ],
             [
              0.5555555555555556,
              "#d8576b"
             ],
             [
              0.6666666666666666,
              "#ed7953"
             ],
             [
              0.7777777777777778,
              "#fb9f3a"
             ],
             [
              0.8888888888888888,
              "#fdca26"
             ],
             [
              1,
              "#f0f921"
             ]
            ],
            "type": "heatmap"
           }
          ],
          "heatmapgl": [
           {
            "colorbar": {
             "outlinewidth": 0,
             "ticks": ""
            },
            "colorscale": [
             [
              0,
              "#0d0887"
             ],
             [
              0.1111111111111111,
              "#46039f"
             ],
             [
              0.2222222222222222,
              "#7201a8"
             ],
             [
              0.3333333333333333,
              "#9c179e"
             ],
             [
              0.4444444444444444,
              "#bd3786"
             ],
             [
              0.5555555555555556,
              "#d8576b"
             ],
             [
              0.6666666666666666,
              "#ed7953"
             ],
             [
              0.7777777777777778,
              "#fb9f3a"
             ],
             [
              0.8888888888888888,
              "#fdca26"
             ],
             [
              1,
              "#f0f921"
             ]
            ],
            "type": "heatmapgl"
           }
          ],
          "histogram": [
           {
            "marker": {
             "pattern": {
              "fillmode": "overlay",
              "size": 10,
              "solidity": 0.2
             }
            },
            "type": "histogram"
           }
          ],
          "histogram2d": [
           {
            "colorbar": {
             "outlinewidth": 0,
             "ticks": ""
            },
            "colorscale": [
             [
              0,
              "#0d0887"
             ],
             [
              0.1111111111111111,
              "#46039f"
             ],
             [
              0.2222222222222222,
              "#7201a8"
             ],
             [
              0.3333333333333333,
              "#9c179e"
             ],
             [
              0.4444444444444444,
              "#bd3786"
             ],
             [
              0.5555555555555556,
              "#d8576b"
             ],
             [
              0.6666666666666666,
              "#ed7953"
             ],
             [
              0.7777777777777778,
              "#fb9f3a"
             ],
             [
              0.8888888888888888,
              "#fdca26"
             ],
             [
              1,
              "#f0f921"
             ]
            ],
            "type": "histogram2d"
           }
          ],
          "histogram2dcontour": [
           {
            "colorbar": {
             "outlinewidth": 0,
             "ticks": ""
            },
            "colorscale": [
             [
              0,
              "#0d0887"
             ],
             [
              0.1111111111111111,
              "#46039f"
             ],
             [
              0.2222222222222222,
              "#7201a8"
             ],
             [
              0.3333333333333333,
              "#9c179e"
             ],
             [
              0.4444444444444444,
              "#bd3786"
             ],
             [
              0.5555555555555556,
              "#d8576b"
             ],
             [
              0.6666666666666666,
              "#ed7953"
             ],
             [
              0.7777777777777778,
              "#fb9f3a"
             ],
             [
              0.8888888888888888,
              "#fdca26"
             ],
             [
              1,
              "#f0f921"
             ]
            ],
            "type": "histogram2dcontour"
           }
          ],
          "mesh3d": [
           {
            "colorbar": {
             "outlinewidth": 0,
             "ticks": ""
            },
            "type": "mesh3d"
           }
          ],
          "parcoords": [
           {
            "line": {
             "colorbar": {
              "outlinewidth": 0,
              "ticks": ""
             }
            },
            "type": "parcoords"
           }
          ],
          "pie": [
           {
            "automargin": true,
            "type": "pie"
           }
          ],
          "scatter": [
           {
            "fillpattern": {
             "fillmode": "overlay",
             "size": 10,
             "solidity": 0.2
            },
            "type": "scatter"
           }
          ],
          "scatter3d": [
           {
            "line": {
             "colorbar": {
              "outlinewidth": 0,
              "ticks": ""
             }
            },
            "marker": {
             "colorbar": {
              "outlinewidth": 0,
              "ticks": ""
             }
            },
            "type": "scatter3d"
           }
          ],
          "scattercarpet": [
           {
            "marker": {
             "colorbar": {
              "outlinewidth": 0,
              "ticks": ""
             }
            },
            "type": "scattercarpet"
           }
          ],
          "scattergeo": [
           {
            "marker": {
             "colorbar": {
              "outlinewidth": 0,
              "ticks": ""
             }
            },
            "type": "scattergeo"
           }
          ],
          "scattergl": [
           {
            "marker": {
             "colorbar": {
              "outlinewidth": 0,
              "ticks": ""
             }
            },
            "type": "scattergl"
           }
          ],
          "scattermapbox": [
           {
            "marker": {
             "colorbar": {
              "outlinewidth": 0,
              "ticks": ""
             }
            },
            "type": "scattermapbox"
           }
          ],
          "scatterpolar": [
           {
            "marker": {
             "colorbar": {
              "outlinewidth": 0,
              "ticks": ""
             }
            },
            "type": "scatterpolar"
           }
          ],
          "scatterpolargl": [
           {
            "marker": {
             "colorbar": {
              "outlinewidth": 0,
              "ticks": ""
             }
            },
            "type": "scatterpolargl"
           }
          ],
          "scatterternary": [
           {
            "marker": {
             "colorbar": {
              "outlinewidth": 0,
              "ticks": ""
             }
            },
            "type": "scatterternary"
           }
          ],
          "surface": [
           {
            "colorbar": {
             "outlinewidth": 0,
             "ticks": ""
            },
            "colorscale": [
             [
              0,
              "#0d0887"
             ],
             [
              0.1111111111111111,
              "#46039f"
             ],
             [
              0.2222222222222222,
              "#7201a8"
             ],
             [
              0.3333333333333333,
              "#9c179e"
             ],
             [
              0.4444444444444444,
              "#bd3786"
             ],
             [
              0.5555555555555556,
              "#d8576b"
             ],
             [
              0.6666666666666666,
              "#ed7953"
             ],
             [
              0.7777777777777778,
              "#fb9f3a"
             ],
             [
              0.8888888888888888,
              "#fdca26"
             ],
             [
              1,
              "#f0f921"
             ]
            ],
            "type": "surface"
           }
          ],
          "table": [
           {
            "cells": {
             "fill": {
              "color": "#EBF0F8"
             },
             "line": {
              "color": "white"
             }
            },
            "header": {
             "fill": {
              "color": "#C8D4E3"
             },
             "line": {
              "color": "white"
             }
            },
            "type": "table"
           }
          ]
         },
         "layout": {
          "annotationdefaults": {
           "arrowcolor": "#2a3f5f",
           "arrowhead": 0,
           "arrowwidth": 1
          },
          "autotypenumbers": "strict",
          "coloraxis": {
           "colorbar": {
            "outlinewidth": 0,
            "ticks": ""
           }
          },
          "colorscale": {
           "diverging": [
            [
             0,
             "#8e0152"
            ],
            [
             0.1,
             "#c51b7d"
            ],
            [
             0.2,
             "#de77ae"
            ],
            [
             0.3,
             "#f1b6da"
            ],
            [
             0.4,
             "#fde0ef"
            ],
            [
             0.5,
             "#f7f7f7"
            ],
            [
             0.6,
             "#e6f5d0"
            ],
            [
             0.7,
             "#b8e186"
            ],
            [
             0.8,
             "#7fbc41"
            ],
            [
             0.9,
             "#4d9221"
            ],
            [
             1,
             "#276419"
            ]
           ],
           "sequential": [
            [
             0,
             "#0d0887"
            ],
            [
             0.1111111111111111,
             "#46039f"
            ],
            [
             0.2222222222222222,
             "#7201a8"
            ],
            [
             0.3333333333333333,
             "#9c179e"
            ],
            [
             0.4444444444444444,
             "#bd3786"
            ],
            [
             0.5555555555555556,
             "#d8576b"
            ],
            [
             0.6666666666666666,
             "#ed7953"
            ],
            [
             0.7777777777777778,
             "#fb9f3a"
            ],
            [
             0.8888888888888888,
             "#fdca26"
            ],
            [
             1,
             "#f0f921"
            ]
           ],
           "sequentialminus": [
            [
             0,
             "#0d0887"
            ],
            [
             0.1111111111111111,
             "#46039f"
            ],
            [
             0.2222222222222222,
             "#7201a8"
            ],
            [
             0.3333333333333333,
             "#9c179e"
            ],
            [
             0.4444444444444444,
             "#bd3786"
            ],
            [
             0.5555555555555556,
             "#d8576b"
            ],
            [
             0.6666666666666666,
             "#ed7953"
            ],
            [
             0.7777777777777778,
             "#fb9f3a"
            ],
            [
             0.8888888888888888,
             "#fdca26"
            ],
            [
             1,
             "#f0f921"
            ]
           ]
          },
          "colorway": [
           "#636efa",
           "#EF553B",
           "#00cc96",
           "#ab63fa",
           "#FFA15A",
           "#19d3f3",
           "#FF6692",
           "#B6E880",
           "#FF97FF",
           "#FECB52"
          ],
          "font": {
           "color": "#2a3f5f"
          },
          "geo": {
           "bgcolor": "white",
           "lakecolor": "white",
           "landcolor": "#E5ECF6",
           "showlakes": true,
           "showland": true,
           "subunitcolor": "white"
          },
          "hoverlabel": {
           "align": "left"
          },
          "hovermode": "closest",
          "mapbox": {
           "style": "light"
          },
          "paper_bgcolor": "white",
          "plot_bgcolor": "#E5ECF6",
          "polar": {
           "angularaxis": {
            "gridcolor": "white",
            "linecolor": "white",
            "ticks": ""
           },
           "bgcolor": "#E5ECF6",
           "radialaxis": {
            "gridcolor": "white",
            "linecolor": "white",
            "ticks": ""
           }
          },
          "scene": {
           "xaxis": {
            "backgroundcolor": "#E5ECF6",
            "gridcolor": "white",
            "gridwidth": 2,
            "linecolor": "white",
            "showbackground": true,
            "ticks": "",
            "zerolinecolor": "white"
           },
           "yaxis": {
            "backgroundcolor": "#E5ECF6",
            "gridcolor": "white",
            "gridwidth": 2,
            "linecolor": "white",
            "showbackground": true,
            "ticks": "",
            "zerolinecolor": "white"
           },
           "zaxis": {
            "backgroundcolor": "#E5ECF6",
            "gridcolor": "white",
            "gridwidth": 2,
            "linecolor": "white",
            "showbackground": true,
            "ticks": "",
            "zerolinecolor": "white"
           }
          },
          "shapedefaults": {
           "line": {
            "color": "#2a3f5f"
           }
          },
          "ternary": {
           "aaxis": {
            "gridcolor": "white",
            "linecolor": "white",
            "ticks": ""
           },
           "baxis": {
            "gridcolor": "white",
            "linecolor": "white",
            "ticks": ""
           },
           "bgcolor": "#E5ECF6",
           "caxis": {
            "gridcolor": "white",
            "linecolor": "white",
            "ticks": ""
           }
          },
          "title": {
           "x": 0.05
          },
          "xaxis": {
           "automargin": true,
           "gridcolor": "white",
           "linecolor": "white",
           "ticks": "",
           "title": {
            "standoff": 15
           },
           "zerolinecolor": "white",
           "zerolinewidth": 2
          },
          "yaxis": {
           "automargin": true,
           "gridcolor": "white",
           "linecolor": "white",
           "ticks": "",
           "title": {
            "standoff": 15
           },
           "zerolinecolor": "white",
           "zerolinewidth": 2
          }
         }
        },
        "title": {
         "text": "Temperature [mK] over time"
        },
        "xaxis": {
         "anchor": "y",
         "domain": [
          0,
          1
         ],
         "title": {
          "text": "x"
         }
        },
        "yaxis": {
         "anchor": "x",
         "domain": [
          0,
          1
         ],
         "title": {
          "text": "y"
         }
        }
       }
      },
      "text/html": [
       "<div>                            <div id=\"091f3e76-c78c-4a65-991c-1f22571af099\" class=\"plotly-graph-div\" style=\"height:525px; width:100%;\"></div>            <script type=\"text/javascript\">                require([\"plotly\"], function(Plotly) {                    window.PLOTLYENV=window.PLOTLYENV || {};                                    if (document.getElementById(\"091f3e76-c78c-4a65-991c-1f22571af099\")) {                    Plotly.newPlot(                        \"091f3e76-c78c-4a65-991c-1f22571af099\",                        [{\"hovertemplate\":\"x=%{x}<br>y=%{y}<extra></extra>\",\"legendgroup\":\"\",\"line\":{\"color\":\"#636efa\",\"dash\":\"solid\"},\"marker\":{\"symbol\":\"circle\"},\"mode\":\"lines\",\"name\":\"\",\"orientation\":\"v\",\"showlegend\":false,\"x\":[\"2023/06/01, 16:52:53\",\"2023/06/01, 16:52:54\",\"2023/06/01, 16:52:55\",\"2023/06/01, 16:52:56\",\"2023/06/01, 16:52:57\",\"2023/06/01, 16:52:58\",\"2023/06/01, 16:52:59\",\"2023/06/01, 16:53:00\",\"2023/06/01, 16:53:01\",\"2023/06/01, 16:53:02\",\"2023/06/01, 16:53:03\",\"2023/06/01, 16:53:04\",\"2023/06/01, 16:53:05\",\"2023/06/01, 16:53:06\",\"2023/06/01, 16:53:07\",\"2023/06/01, 16:53:08\",\"2023/06/01, 16:53:09\",\"2023/06/01, 16:53:10\",\"2023/06/01, 16:53:11\",\"2023/06/01, 16:53:12\",\"2023/06/01, 16:53:13\",\"2023/06/01, 16:53:14\",\"2023/06/01, 16:53:15\",\"2023/06/01, 16:53:16\",\"2023/06/01, 16:53:17\",\"2023/06/01, 16:53:18\",\"2023/06/01, 16:53:19\",\"2023/06/01, 16:53:20\",\"2023/06/01, 16:53:21\",\"2023/06/01, 16:53:22\",\"2023/06/01, 16:53:23\",\"2023/06/01, 16:53:24\",\"2023/06/01, 16:53:25\",\"2023/06/01, 16:53:26\",\"2023/06/01, 16:53:27\",\"2023/06/01, 16:53:28\",\"2023/06/01, 16:53:29\",\"2023/06/01, 16:53:30\",\"2023/06/01, 16:53:31\",\"2023/06/01, 16:53:32\",\"2023/06/01, 16:53:33\",\"2023/06/01, 16:53:34\",\"2023/06/01, 16:53:35\",\"2023/06/01, 16:53:36\",\"2023/06/01, 16:53:37\",\"2023/06/01, 16:53:38\",\"2023/06/01, 16:53:39\",\"2023/06/01, 16:53:40\",\"2023/06/01, 16:53:41\",\"2023/06/01, 16:53:42\",\"2023/06/01, 16:53:43\",\"2023/06/01, 16:53:44\",\"2023/06/01, 16:53:45\",\"2023/06/01, 16:53:46\",\"2023/06/01, 16:53:47\",\"2023/06/01, 16:53:48\",\"2023/06/01, 16:53:49\",\"2023/06/01, 16:53:50\",\"2023/06/01, 16:53:51\",\"2023/06/01, 16:53:52\",\"2023/06/01, 16:53:53\",\"2023/06/01, 16:53:54\",\"2023/06/01, 16:53:55\",\"2023/06/01, 16:53:56\",\"2023/06/01, 16:53:57\",\"2023/06/01, 16:53:58\",\"2023/06/01, 16:53:59\",\"2023/06/01, 16:54:00\",\"2023/06/01, 16:54:01\",\"2023/06/01, 16:54:02\",\"2023/06/01, 16:54:03\",\"2023/06/01, 16:54:04\",\"2023/06/01, 16:54:05\",\"2023/06/01, 16:54:06\",\"2023/06/01, 16:54:07\",\"2023/06/01, 16:54:08\",\"2023/06/01, 16:54:09\",\"2023/06/01, 16:54:10\",\"2023/06/01, 16:54:11\",\"2023/06/01, 16:54:12\",\"2023/06/01, 16:54:13\",\"2023/06/01, 16:54:14\",\"2023/06/01, 16:54:15\",\"2023/06/01, 16:54:16\",\"2023/06/01, 16:54:17\",\"2023/06/01, 16:54:18\",\"2023/06/01, 16:54:19\",\"2023/06/01, 16:54:20\",\"2023/06/01, 16:54:21\",\"2023/06/01, 16:54:22\",\"2023/06/01, 16:54:23\",\"2023/06/01, 16:54:24\",\"2023/06/01, 16:54:25\",\"2023/06/01, 16:54:26\",\"2023/06/01, 16:54:27\",\"2023/06/01, 16:54:28\",\"2023/06/01, 16:54:29\",\"2023/06/01, 16:54:30\",\"2023/06/01, 16:54:31\",\"2023/06/01, 16:54:32\"],\"xaxis\":\"x\",\"y\":[95.30937426865668,95.33416047588622,95.33252219927849,95.34090312200277,95.28948181526762,95.32194149271362,95.31617391339343,95.32348157610197,95.32239046884717,95.36661360432753,95.29217084950247,95.27370858274014,95.25623346351604,95.31304266792402,95.3267893648169,95.30243117532547,95.29866850973613,95.31846375525656,95.25347920018554,95.32228224410972,95.3263628472208,95.26082429291358,95.3516935496525,95.24354241660367,95.26555460567559,95.35234066281541,95.3302158119599,95.22838257065625,95.26345289977418,95.34262205953485,95.32901401469039,95.27962018698555,95.32138391701183,95.27509977351887,95.33694916121978,95.2981699839087,95.2913105204336,95.28988960807908,95.30868664170039,95.3226473566502,95.33744956315066,95.32209407142072,95.28904271415182,95.31827007048014,95.28675176671834,95.29135378964345,95.33147906311791,95.24743246355892,95.3401391239688,95.31619840515174,95.35120565542275,95.31196499376445,95.3287721536153,95.32643101495398,95.245530962177,95.28381397751757,95.3121825339768,95.3210200776728,95.32833302743443,95.37605694415782,95.32756324831404,95.2982693260075,95.36042436075459,95.3064373852062,95.33337985454357,95.29505090951399,95.33490351933837,95.31984299818421,95.27783079602347,95.31133120783652,95.30614563057807,95.30141154365974,95.31470110507136,95.37472714036117,95.25170048734319,95.26516598767921,95.30766749792205,95.24218576210886,95.24872888853776,95.2982570426293,95.26112698641529,95.290538050438,95.28930741611487,95.34147691069192,95.33767216842705,95.36486445628269,95.30003634043791,95.31767923618224,95.29699519075152,95.32901142042232,95.31468550185892,95.25933380723018,95.35461792479809,95.32321150517748,95.337508513679,95.36482783739172,95.3253241418493,95.33251384103055,95.3178683365164,95.3102864456026],\"yaxis\":\"y\",\"type\":\"scatter\"}],                        {\"template\":{\"data\":{\"histogram2dcontour\":[{\"type\":\"histogram2dcontour\",\"colorbar\":{\"outlinewidth\":0,\"ticks\":\"\"},\"colorscale\":[[0.0,\"#0d0887\"],[0.1111111111111111,\"#46039f\"],[0.2222222222222222,\"#7201a8\"],[0.3333333333333333,\"#9c179e\"],[0.4444444444444444,\"#bd3786\"],[0.5555555555555556,\"#d8576b\"],[0.6666666666666666,\"#ed7953\"],[0.7777777777777778,\"#fb9f3a\"],[0.8888888888888888,\"#fdca26\"],[1.0,\"#f0f921\"]]}],\"choropleth\":[{\"type\":\"choropleth\",\"colorbar\":{\"outlinewidth\":0,\"ticks\":\"\"}}],\"histogram2d\":[{\"type\":\"histogram2d\",\"colorbar\":{\"outlinewidth\":0,\"ticks\":\"\"},\"colorscale\":[[0.0,\"#0d0887\"],[0.1111111111111111,\"#46039f\"],[0.2222222222222222,\"#7201a8\"],[0.3333333333333333,\"#9c179e\"],[0.4444444444444444,\"#bd3786\"],[0.5555555555555556,\"#d8576b\"],[0.6666666666666666,\"#ed7953\"],[0.7777777777777778,\"#fb9f3a\"],[0.8888888888888888,\"#fdca26\"],[1.0,\"#f0f921\"]]}],\"heatmap\":[{\"type\":\"heatmap\",\"colorbar\":{\"outlinewidth\":0,\"ticks\":\"\"},\"colorscale\":[[0.0,\"#0d0887\"],[0.1111111111111111,\"#46039f\"],[0.2222222222222222,\"#7201a8\"],[0.3333333333333333,\"#9c179e\"],[0.4444444444444444,\"#bd3786\"],[0.5555555555555556,\"#d8576b\"],[0.6666666666666666,\"#ed7953\"],[0.7777777777777778,\"#fb9f3a\"],[0.8888888888888888,\"#fdca26\"],[1.0,\"#f0f921\"]]}],\"heatmapgl\":[{\"type\":\"heatmapgl\",\"colorbar\":{\"outlinewidth\":0,\"ticks\":\"\"},\"colorscale\":[[0.0,\"#0d0887\"],[0.1111111111111111,\"#46039f\"],[0.2222222222222222,\"#7201a8\"],[0.3333333333333333,\"#9c179e\"],[0.4444444444444444,\"#bd3786\"],[0.5555555555555556,\"#d8576b\"],[0.6666666666666666,\"#ed7953\"],[0.7777777777777778,\"#fb9f3a\"],[0.8888888888888888,\"#fdca26\"],[1.0,\"#f0f921\"]]}],\"contourcarpet\":[{\"type\":\"contourcarpet\",\"colorbar\":{\"outlinewidth\":0,\"ticks\":\"\"}}],\"contour\":[{\"type\":\"contour\",\"colorbar\":{\"outlinewidth\":0,\"ticks\":\"\"},\"colorscale\":[[0.0,\"#0d0887\"],[0.1111111111111111,\"#46039f\"],[0.2222222222222222,\"#7201a8\"],[0.3333333333333333,\"#9c179e\"],[0.4444444444444444,\"#bd3786\"],[0.5555555555555556,\"#d8576b\"],[0.6666666666666666,\"#ed7953\"],[0.7777777777777778,\"#fb9f3a\"],[0.8888888888888888,\"#fdca26\"],[1.0,\"#f0f921\"]]}],\"surface\":[{\"type\":\"surface\",\"colorbar\":{\"outlinewidth\":0,\"ticks\":\"\"},\"colorscale\":[[0.0,\"#0d0887\"],[0.1111111111111111,\"#46039f\"],[0.2222222222222222,\"#7201a8\"],[0.3333333333333333,\"#9c179e\"],[0.4444444444444444,\"#bd3786\"],[0.5555555555555556,\"#d8576b\"],[0.6666666666666666,\"#ed7953\"],[0.7777777777777778,\"#fb9f3a\"],[0.8888888888888888,\"#fdca26\"],[1.0,\"#f0f921\"]]}],\"mesh3d\":[{\"type\":\"mesh3d\",\"colorbar\":{\"outlinewidth\":0,\"ticks\":\"\"}}],\"scatter\":[{\"fillpattern\":{\"fillmode\":\"overlay\",\"size\":10,\"solidity\":0.2},\"type\":\"scatter\"}],\"parcoords\":[{\"type\":\"parcoords\",\"line\":{\"colorbar\":{\"outlinewidth\":0,\"ticks\":\"\"}}}],\"scatterpolargl\":[{\"type\":\"scatterpolargl\",\"marker\":{\"colorbar\":{\"outlinewidth\":0,\"ticks\":\"\"}}}],\"bar\":[{\"error_x\":{\"color\":\"#2a3f5f\"},\"error_y\":{\"color\":\"#2a3f5f\"},\"marker\":{\"line\":{\"color\":\"#E5ECF6\",\"width\":0.5},\"pattern\":{\"fillmode\":\"overlay\",\"size\":10,\"solidity\":0.2}},\"type\":\"bar\"}],\"scattergeo\":[{\"type\":\"scattergeo\",\"marker\":{\"colorbar\":{\"outlinewidth\":0,\"ticks\":\"\"}}}],\"scatterpolar\":[{\"type\":\"scatterpolar\",\"marker\":{\"colorbar\":{\"outlinewidth\":0,\"ticks\":\"\"}}}],\"histogram\":[{\"marker\":{\"pattern\":{\"fillmode\":\"overlay\",\"size\":10,\"solidity\":0.2}},\"type\":\"histogram\"}],\"scattergl\":[{\"type\":\"scattergl\",\"marker\":{\"colorbar\":{\"outlinewidth\":0,\"ticks\":\"\"}}}],\"scatter3d\":[{\"type\":\"scatter3d\",\"line\":{\"colorbar\":{\"outlinewidth\":0,\"ticks\":\"\"}},\"marker\":{\"colorbar\":{\"outlinewidth\":0,\"ticks\":\"\"}}}],\"scattermapbox\":[{\"type\":\"scattermapbox\",\"marker\":{\"colorbar\":{\"outlinewidth\":0,\"ticks\":\"\"}}}],\"scatterternary\":[{\"type\":\"scatterternary\",\"marker\":{\"colorbar\":{\"outlinewidth\":0,\"ticks\":\"\"}}}],\"scattercarpet\":[{\"type\":\"scattercarpet\",\"marker\":{\"colorbar\":{\"outlinewidth\":0,\"ticks\":\"\"}}}],\"carpet\":[{\"aaxis\":{\"endlinecolor\":\"#2a3f5f\",\"gridcolor\":\"white\",\"linecolor\":\"white\",\"minorgridcolor\":\"white\",\"startlinecolor\":\"#2a3f5f\"},\"baxis\":{\"endlinecolor\":\"#2a3f5f\",\"gridcolor\":\"white\",\"linecolor\":\"white\",\"minorgridcolor\":\"white\",\"startlinecolor\":\"#2a3f5f\"},\"type\":\"carpet\"}],\"table\":[{\"cells\":{\"fill\":{\"color\":\"#EBF0F8\"},\"line\":{\"color\":\"white\"}},\"header\":{\"fill\":{\"color\":\"#C8D4E3\"},\"line\":{\"color\":\"white\"}},\"type\":\"table\"}],\"barpolar\":[{\"marker\":{\"line\":{\"color\":\"#E5ECF6\",\"width\":0.5},\"pattern\":{\"fillmode\":\"overlay\",\"size\":10,\"solidity\":0.2}},\"type\":\"barpolar\"}],\"pie\":[{\"automargin\":true,\"type\":\"pie\"}]},\"layout\":{\"autotypenumbers\":\"strict\",\"colorway\":[\"#636efa\",\"#EF553B\",\"#00cc96\",\"#ab63fa\",\"#FFA15A\",\"#19d3f3\",\"#FF6692\",\"#B6E880\",\"#FF97FF\",\"#FECB52\"],\"font\":{\"color\":\"#2a3f5f\"},\"hovermode\":\"closest\",\"hoverlabel\":{\"align\":\"left\"},\"paper_bgcolor\":\"white\",\"plot_bgcolor\":\"#E5ECF6\",\"polar\":{\"bgcolor\":\"#E5ECF6\",\"angularaxis\":{\"gridcolor\":\"white\",\"linecolor\":\"white\",\"ticks\":\"\"},\"radialaxis\":{\"gridcolor\":\"white\",\"linecolor\":\"white\",\"ticks\":\"\"}},\"ternary\":{\"bgcolor\":\"#E5ECF6\",\"aaxis\":{\"gridcolor\":\"white\",\"linecolor\":\"white\",\"ticks\":\"\"},\"baxis\":{\"gridcolor\":\"white\",\"linecolor\":\"white\",\"ticks\":\"\"},\"caxis\":{\"gridcolor\":\"white\",\"linecolor\":\"white\",\"ticks\":\"\"}},\"coloraxis\":{\"colorbar\":{\"outlinewidth\":0,\"ticks\":\"\"}},\"colorscale\":{\"sequential\":[[0.0,\"#0d0887\"],[0.1111111111111111,\"#46039f\"],[0.2222222222222222,\"#7201a8\"],[0.3333333333333333,\"#9c179e\"],[0.4444444444444444,\"#bd3786\"],[0.5555555555555556,\"#d8576b\"],[0.6666666666666666,\"#ed7953\"],[0.7777777777777778,\"#fb9f3a\"],[0.8888888888888888,\"#fdca26\"],[1.0,\"#f0f921\"]],\"sequentialminus\":[[0.0,\"#0d0887\"],[0.1111111111111111,\"#46039f\"],[0.2222222222222222,\"#7201a8\"],[0.3333333333333333,\"#9c179e\"],[0.4444444444444444,\"#bd3786\"],[0.5555555555555556,\"#d8576b\"],[0.6666666666666666,\"#ed7953\"],[0.7777777777777778,\"#fb9f3a\"],[0.8888888888888888,\"#fdca26\"],[1.0,\"#f0f921\"]],\"diverging\":[[0,\"#8e0152\"],[0.1,\"#c51b7d\"],[0.2,\"#de77ae\"],[0.3,\"#f1b6da\"],[0.4,\"#fde0ef\"],[0.5,\"#f7f7f7\"],[0.6,\"#e6f5d0\"],[0.7,\"#b8e186\"],[0.8,\"#7fbc41\"],[0.9,\"#4d9221\"],[1,\"#276419\"]]},\"xaxis\":{\"gridcolor\":\"white\",\"linecolor\":\"white\",\"ticks\":\"\",\"title\":{\"standoff\":15},\"zerolinecolor\":\"white\",\"automargin\":true,\"zerolinewidth\":2},\"yaxis\":{\"gridcolor\":\"white\",\"linecolor\":\"white\",\"ticks\":\"\",\"title\":{\"standoff\":15},\"zerolinecolor\":\"white\",\"automargin\":true,\"zerolinewidth\":2},\"scene\":{\"xaxis\":{\"backgroundcolor\":\"#E5ECF6\",\"gridcolor\":\"white\",\"linecolor\":\"white\",\"showbackground\":true,\"ticks\":\"\",\"zerolinecolor\":\"white\",\"gridwidth\":2},\"yaxis\":{\"backgroundcolor\":\"#E5ECF6\",\"gridcolor\":\"white\",\"linecolor\":\"white\",\"showbackground\":true,\"ticks\":\"\",\"zerolinecolor\":\"white\",\"gridwidth\":2},\"zaxis\":{\"backgroundcolor\":\"#E5ECF6\",\"gridcolor\":\"white\",\"linecolor\":\"white\",\"showbackground\":true,\"ticks\":\"\",\"zerolinecolor\":\"white\",\"gridwidth\":2}},\"shapedefaults\":{\"line\":{\"color\":\"#2a3f5f\"}},\"annotationdefaults\":{\"arrowcolor\":\"#2a3f5f\",\"arrowhead\":0,\"arrowwidth\":1},\"geo\":{\"bgcolor\":\"white\",\"landcolor\":\"#E5ECF6\",\"subunitcolor\":\"white\",\"showland\":true,\"showlakes\":true,\"lakecolor\":\"white\"},\"title\":{\"x\":0.05},\"mapbox\":{\"style\":\"light\"}}},\"xaxis\":{\"anchor\":\"y\",\"domain\":[0.0,1.0],\"title\":{\"text\":\"x\"}},\"yaxis\":{\"anchor\":\"x\",\"domain\":[0.0,1.0],\"title\":{\"text\":\"y\"}},\"legend\":{\"tracegroupgap\":0},\"title\":{\"text\":\"Temperature [mK] over time\"}},                        {\"responsive\": true}                    ).then(function(){\n",
       "                            \n",
       "var gd = document.getElementById('091f3e76-c78c-4a65-991c-1f22571af099');\n",
       "var x = new MutationObserver(function (mutations, observer) {{\n",
       "        var display = window.getComputedStyle(gd).display;\n",
       "        if (!display || display === 'none') {{\n",
       "            console.log([gd, 'removed!']);\n",
       "            Plotly.purge(gd);\n",
       "            observer.disconnect();\n",
       "        }}\n",
       "}});\n",
       "\n",
       "// Listen for the removal of the full notebook cells\n",
       "var notebookContainer = gd.closest('#notebook-container');\n",
       "if (notebookContainer) {{\n",
       "    x.observe(notebookContainer, {childList: true});\n",
       "}}\n",
       "\n",
       "// Listen for the clearing of the current output cell\n",
       "var outputEl = gd.closest('.output');\n",
       "if (outputEl) {{\n",
       "    x.observe(outputEl, {childList: true});\n",
       "}}\n",
       "\n",
       "                        })                };                });            </script>        </div>"
      ]
     },
     "metadata": {},
     "output_type": "display_data"
    }
   ],
   "source": [
    "fig_T = px.line(x = averaged_dictionary['AIN56']['Time'], y = averaged_dictionary['AIN56']['Temp [mK]'], title='Temperature [mK] over time')\n",
    "fig_T.show()"
   ]
  },
  {
   "cell_type": "code",
   "execution_count": 64,
   "id": "9f6f5824",
   "metadata": {},
   "outputs": [
    {
     "name": "stdout",
     "output_type": "stream",
     "text": [
      "0.05303300858899307 mK RMS\n"
     ]
    }
   ],
   "source": [
    "print(str((95.37 - 95.22 ) / (2*np.sqrt(2))) + ' mK RMS')"
   ]
  }
 ],
 "metadata": {
  "kernelspec": {
   "display_name": "Python 3 (ipykernel)",
   "language": "python",
   "name": "python3"
  },
  "language_info": {
   "codemirror_mode": {
    "name": "ipython",
    "version": 3
   },
   "file_extension": ".py",
   "mimetype": "text/x-python",
   "name": "python",
   "nbconvert_exporter": "python",
   "pygments_lexer": "ipython3",
   "version": "3.11.3"
  }
 },
 "nbformat": 4,
 "nbformat_minor": 5
}
